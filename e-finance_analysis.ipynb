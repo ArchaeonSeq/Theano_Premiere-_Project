{
 "cells": [
  {
   "cell_type": "markdown",
   "id": "e7c973c4",
   "metadata": {},
   "source": [
    "## PROJECT : The Impact Of E-finance Research On The Present Day E-finance Services"
   ]
  },
  {
   "cell_type": "markdown",
   "id": "ce9226e0",
   "metadata": {},
   "source": [
    "## Introduction\n",
    "\n",
    "In this project we will be analysing and drawing conclusions on a dataset gathered from a research project on [Kaggle](https://www.kaggle.com/datasets/saurabhshahane/efinance-research-dataset-19812019). We will be answering questions about how research has affected E-finance services and finding trends that can aid development in the E-finance industry."
   ]
  },
  {
   "cell_type": "markdown",
   "id": "1dcf2451",
   "metadata": {},
   "source": [
    "### Data Wrangling"
   ]
  },
  {
   "cell_type": "code",
   "execution_count": 1,
   "id": "730d9b18",
   "metadata": {},
   "outputs": [],
   "source": [
    "import pandas as pd\n",
    "import numpy as np\n",
    "import matplotlib.pyplot as plt\n",
    "import seaborn as sns\n"
   ]
  },
  {
   "cell_type": "code",
   "execution_count": 2,
   "id": "f13e2c87",
   "metadata": {},
   "outputs": [
    {
     "data": {
      "text/html": [
       "<div>\n",
       "<style scoped>\n",
       "    .dataframe tbody tr th:only-of-type {\n",
       "        vertical-align: middle;\n",
       "    }\n",
       "\n",
       "    .dataframe tbody tr th {\n",
       "        vertical-align: top;\n",
       "    }\n",
       "\n",
       "    .dataframe thead th {\n",
       "        text-align: right;\n",
       "    }\n",
       "</style>\n",
       "<table border=\"1\" class=\"dataframe\">\n",
       "  <thead>\n",
       "    <tr style=\"text-align: right;\">\n",
       "      <th></th>\n",
       "      <th>Authors</th>\n",
       "      <th>Author(s) ID</th>\n",
       "      <th>Title</th>\n",
       "      <th>Year</th>\n",
       "      <th>Source title</th>\n",
       "      <th>Volume</th>\n",
       "      <th>Issue</th>\n",
       "      <th>Art. No.</th>\n",
       "      <th>Page start</th>\n",
       "      <th>Page end</th>\n",
       "      <th>...</th>\n",
       "      <th>ISBN</th>\n",
       "      <th>CODEN</th>\n",
       "      <th>PubMed ID</th>\n",
       "      <th>Language of Original Document</th>\n",
       "      <th>Abbreviated Source Title</th>\n",
       "      <th>Document Type</th>\n",
       "      <th>Publication Stage</th>\n",
       "      <th>Access Type</th>\n",
       "      <th>Source</th>\n",
       "      <th>EID</th>\n",
       "    </tr>\n",
       "  </thead>\n",
       "  <tbody>\n",
       "    <tr>\n",
       "      <th>0</th>\n",
       "      <td>Beni E.H., Lagaisse B., Joosen W., Aly A., Bra...</td>\n",
       "      <td>57189258279;8933999000;22834655700;55841871100...</td>\n",
       "      <td>Datablinder: A distributed data protection mid...</td>\n",
       "      <td>2019</td>\n",
       "      <td>Middleware Industry 2019 - Proceedings of the ...</td>\n",
       "      <td>NaN</td>\n",
       "      <td>NaN</td>\n",
       "      <td>NaN</td>\n",
       "      <td>50</td>\n",
       "      <td>57.0</td>\n",
       "      <td>...</td>\n",
       "      <td>9781450370417</td>\n",
       "      <td>NaN</td>\n",
       "      <td>NaN</td>\n",
       "      <td>English</td>\n",
       "      <td>Middlew. Ind. - Proc. Int. Middlew. Conf. Ind....</td>\n",
       "      <td>Conference Paper</td>\n",
       "      <td>Final</td>\n",
       "      <td>Open Access</td>\n",
       "      <td>Scopus</td>\n",
       "      <td>2-s2.0-85078939286</td>\n",
       "    </tr>\n",
       "    <tr>\n",
       "      <th>1</th>\n",
       "      <td>Xiong H., Zhou Y.</td>\n",
       "      <td>57212174318;57212168803;</td>\n",
       "      <td>Construction and Application of Ocean Shipping...</td>\n",
       "      <td>2019</td>\n",
       "      <td>Journal of Coastal Research</td>\n",
       "      <td>97</td>\n",
       "      <td>sp1</td>\n",
       "      <td>NaN</td>\n",
       "      <td>29</td>\n",
       "      <td>34.0</td>\n",
       "      <td>...</td>\n",
       "      <td>NaN</td>\n",
       "      <td>JCRSE</td>\n",
       "      <td>NaN</td>\n",
       "      <td>English</td>\n",
       "      <td>J. Coast. Res.</td>\n",
       "      <td>Article</td>\n",
       "      <td>Final</td>\n",
       "      <td>NaN</td>\n",
       "      <td>Scopus</td>\n",
       "      <td>2-s2.0-85076117139</td>\n",
       "    </tr>\n",
       "    <tr>\n",
       "      <th>2</th>\n",
       "      <td>Feng L., Zhang H., Tsai W.-T., Sun S.</td>\n",
       "      <td>57194783804;56979549200;57050382000;57197771738;</td>\n",
       "      <td>System architecture for high-performance permi...</td>\n",
       "      <td>2019</td>\n",
       "      <td>Frontiers of Computer Science</td>\n",
       "      <td>13</td>\n",
       "      <td>6</td>\n",
       "      <td>NaN</td>\n",
       "      <td>1151</td>\n",
       "      <td>1165.0</td>\n",
       "      <td>...</td>\n",
       "      <td>NaN</td>\n",
       "      <td>NaN</td>\n",
       "      <td>NaN</td>\n",
       "      <td>English</td>\n",
       "      <td>Front. Comput. Sci.</td>\n",
       "      <td>Article</td>\n",
       "      <td>Final</td>\n",
       "      <td>NaN</td>\n",
       "      <td>Scopus</td>\n",
       "      <td>2-s2.0-85051801026</td>\n",
       "    </tr>\n",
       "    <tr>\n",
       "      <th>3</th>\n",
       "      <td>Rožkalne Z., Mukāns M., Vētra A.</td>\n",
       "      <td>57211844555;56074676500;6506045608;</td>\n",
       "      <td>Transition-age young adults with cerebral pals...</td>\n",
       "      <td>2019</td>\n",
       "      <td>Medicina (Lithuania)</td>\n",
       "      <td>55</td>\n",
       "      <td>11</td>\n",
       "      <td>737</td>\n",
       "      <td>NaN</td>\n",
       "      <td>NaN</td>\n",
       "      <td>...</td>\n",
       "      <td>NaN</td>\n",
       "      <td>NaN</td>\n",
       "      <td>31739609.0</td>\n",
       "      <td>English</td>\n",
       "      <td>Medicina</td>\n",
       "      <td>Article</td>\n",
       "      <td>Final</td>\n",
       "      <td>Open Access</td>\n",
       "      <td>Scopus</td>\n",
       "      <td>2-s2.0-85075115419</td>\n",
       "    </tr>\n",
       "    <tr>\n",
       "      <th>4</th>\n",
       "      <td>Alshubiri F., Jamil S.A., Elheddad M.</td>\n",
       "      <td>56539905200;56770916900;57195032630;</td>\n",
       "      <td>The impact of ICT on financial development: Em...</td>\n",
       "      <td>2019</td>\n",
       "      <td>International Journal of Engineering Business ...</td>\n",
       "      <td>11</td>\n",
       "      <td>NaN</td>\n",
       "      <td>NaN</td>\n",
       "      <td>NaN</td>\n",
       "      <td>NaN</td>\n",
       "      <td>...</td>\n",
       "      <td>NaN</td>\n",
       "      <td>NaN</td>\n",
       "      <td>NaN</td>\n",
       "      <td>English</td>\n",
       "      <td>Intern. J. Eng. Bus. Manage.</td>\n",
       "      <td>Article</td>\n",
       "      <td>Final</td>\n",
       "      <td>Open Access</td>\n",
       "      <td>Scopus</td>\n",
       "      <td>2-s2.0-85071721834</td>\n",
       "    </tr>\n",
       "  </tbody>\n",
       "</table>\n",
       "<p>5 rows × 46 columns</p>\n",
       "</div>"
      ],
      "text/plain": [
       "                                             Authors  \\\n",
       "0  Beni E.H., Lagaisse B., Joosen W., Aly A., Bra...   \n",
       "1                                  Xiong H., Zhou Y.   \n",
       "2              Feng L., Zhang H., Tsai W.-T., Sun S.   \n",
       "3                   Rožkalne Z., Mukāns M., Vētra A.   \n",
       "4              Alshubiri F., Jamil S.A., Elheddad M.   \n",
       "\n",
       "                                        Author(s) ID  \\\n",
       "0  57189258279;8933999000;22834655700;55841871100...   \n",
       "1                           57212174318;57212168803;   \n",
       "2   57194783804;56979549200;57050382000;57197771738;   \n",
       "3                57211844555;56074676500;6506045608;   \n",
       "4               56539905200;56770916900;57195032630;   \n",
       "\n",
       "                                               Title  Year  \\\n",
       "0  Datablinder: A distributed data protection mid...  2019   \n",
       "1  Construction and Application of Ocean Shipping...  2019   \n",
       "2  System architecture for high-performance permi...  2019   \n",
       "3  Transition-age young adults with cerebral pals...  2019   \n",
       "4  The impact of ICT on financial development: Em...  2019   \n",
       "\n",
       "                                        Source title Volume Issue Art. No.  \\\n",
       "0  Middleware Industry 2019 - Proceedings of the ...    NaN   NaN      NaN   \n",
       "1                        Journal of Coastal Research     97   sp1      NaN   \n",
       "2                      Frontiers of Computer Science     13     6      NaN   \n",
       "3                               Medicina (Lithuania)     55    11      737   \n",
       "4  International Journal of Engineering Business ...     11   NaN      NaN   \n",
       "\n",
       "  Page start  Page end  ...           ISBN  CODEN   PubMed ID  \\\n",
       "0         50      57.0  ...  9781450370417    NaN         NaN   \n",
       "1         29      34.0  ...            NaN  JCRSE         NaN   \n",
       "2       1151    1165.0  ...            NaN    NaN         NaN   \n",
       "3        NaN       NaN  ...            NaN    NaN  31739609.0   \n",
       "4        NaN       NaN  ...            NaN    NaN         NaN   \n",
       "\n",
       "  Language of Original Document  \\\n",
       "0                       English   \n",
       "1                       English   \n",
       "2                       English   \n",
       "3                       English   \n",
       "4                       English   \n",
       "\n",
       "                            Abbreviated Source Title     Document Type  \\\n",
       "0  Middlew. Ind. - Proc. Int. Middlew. Conf. Ind....  Conference Paper   \n",
       "1                                     J. Coast. Res.           Article   \n",
       "2                                Front. Comput. Sci.           Article   \n",
       "3                                           Medicina           Article   \n",
       "4                       Intern. J. Eng. Bus. Manage.           Article   \n",
       "\n",
       "  Publication Stage  Access Type  Source                 EID  \n",
       "0             Final  Open Access  Scopus  2-s2.0-85078939286  \n",
       "1             Final          NaN  Scopus  2-s2.0-85076117139  \n",
       "2             Final          NaN  Scopus  2-s2.0-85051801026  \n",
       "3             Final  Open Access  Scopus  2-s2.0-85075115419  \n",
       "4             Final  Open Access  Scopus  2-s2.0-85071721834  \n",
       "\n",
       "[5 rows x 46 columns]"
      ]
     },
     "execution_count": 2,
     "metadata": {},
     "output_type": "execute_result"
    }
   ],
   "source": [
    "#let's inspect our data\n",
    "df=pd.read_csv('e-finance dataset.csv')\n",
    "#pd.set_option('display.max_columns',None)\n",
    "#pd.set_option('display.max_rows',None)\n",
    "df.head()"
   ]
  },
  {
   "cell_type": "code",
   "execution_count": 3,
   "id": "bfe37e22",
   "metadata": {},
   "outputs": [
    {
     "name": "stdout",
     "output_type": "stream",
     "text": [
      "<class 'pandas.core.frame.DataFrame'>\n",
      "RangeIndex: 228 entries, 0 to 227\n",
      "Data columns (total 46 columns):\n",
      " #   Column                         Non-Null Count  Dtype  \n",
      "---  ------                         --------------  -----  \n",
      " 0   Authors                        228 non-null    object \n",
      " 1   Author(s) ID                   228 non-null    object \n",
      " 2   Title                          228 non-null    object \n",
      " 3   Year                           228 non-null    int64  \n",
      " 4   Source title                   227 non-null    object \n",
      " 5   Volume                         180 non-null    object \n",
      " 6   Issue                          147 non-null    object \n",
      " 7   Art. No.                       27 non-null     object \n",
      " 8   Page start                     206 non-null    object \n",
      " 9   Page end                       199 non-null    float64\n",
      " 10  Page count                     4 non-null      float64\n",
      " 11  Cited by                       153 non-null    float64\n",
      " 12  DOI                            174 non-null    object \n",
      " 13  Link                           228 non-null    object \n",
      " 14  Affiliations                   214 non-null    object \n",
      " 15  Authors with affiliations      226 non-null    object \n",
      " 16  Abstract                       228 non-null    object \n",
      " 17  Author Keywords                180 non-null    object \n",
      " 18  Index Keywords                 101 non-null    object \n",
      " 19  Molecular Sequence Numbers     0 non-null      float64\n",
      " 20  Chemicals/CAS                  0 non-null      float64\n",
      " 21  Tradenames                     0 non-null      float64\n",
      " 22  Manufacturers                  0 non-null      float64\n",
      " 23  Funding Details                19 non-null     object \n",
      " 24  Funding Text 1                 24 non-null     object \n",
      " 25  Funding Text 2                 2 non-null      object \n",
      " 26  References                     212 non-null    object \n",
      " 27  Correspondence Address         191 non-null    object \n",
      " 28  Editors                        11 non-null     object \n",
      " 29  Sponsors                       32 non-null     object \n",
      " 30  Publisher                      140 non-null    object \n",
      " 31  Conference name                62 non-null     object \n",
      " 32  Conference date                61 non-null     object \n",
      " 33  Conference location            45 non-null     object \n",
      " 34  Conference code                62 non-null     float64\n",
      " 35  ISSN                           174 non-null    object \n",
      " 36  ISBN                           66 non-null     object \n",
      " 37  CODEN                          27 non-null     object \n",
      " 38  PubMed ID                      4 non-null      float64\n",
      " 39  Language of Original Document  228 non-null    object \n",
      " 40  Abbreviated Source Title       218 non-null    object \n",
      " 41  Document Type                  228 non-null    object \n",
      " 42  Publication Stage              228 non-null    object \n",
      " 43  Access Type                    16 non-null     object \n",
      " 44  Source                         228 non-null    object \n",
      " 45  EID                            228 non-null    object \n",
      "dtypes: float64(9), int64(1), object(36)\n",
      "memory usage: 82.1+ KB\n"
     ]
    }
   ],
   "source": [
    "# let's check for columns with null values and data types\n",
    "\n",
    "df.info()"
   ]
  },
  {
   "cell_type": "code",
   "execution_count": 4,
   "id": "6e7c41e1",
   "metadata": {},
   "outputs": [
    {
     "data": {
      "text/html": [
       "<div>\n",
       "<style scoped>\n",
       "    .dataframe tbody tr th:only-of-type {\n",
       "        vertical-align: middle;\n",
       "    }\n",
       "\n",
       "    .dataframe tbody tr th {\n",
       "        vertical-align: top;\n",
       "    }\n",
       "\n",
       "    .dataframe thead th {\n",
       "        text-align: right;\n",
       "    }\n",
       "</style>\n",
       "<table border=\"1\" class=\"dataframe\">\n",
       "  <thead>\n",
       "    <tr style=\"text-align: right;\">\n",
       "      <th></th>\n",
       "      <th>Year</th>\n",
       "      <th>Page end</th>\n",
       "      <th>Page count</th>\n",
       "      <th>Cited by</th>\n",
       "      <th>Molecular Sequence Numbers</th>\n",
       "      <th>Chemicals/CAS</th>\n",
       "      <th>Tradenames</th>\n",
       "      <th>Manufacturers</th>\n",
       "      <th>Conference code</th>\n",
       "      <th>PubMed ID</th>\n",
       "    </tr>\n",
       "  </thead>\n",
       "  <tbody>\n",
       "    <tr>\n",
       "      <th>count</th>\n",
       "      <td>228.000000</td>\n",
       "      <td>199.000000</td>\n",
       "      <td>4.000000</td>\n",
       "      <td>153.000000</td>\n",
       "      <td>0.0</td>\n",
       "      <td>0.0</td>\n",
       "      <td>0.0</td>\n",
       "      <td>0.0</td>\n",
       "      <td>62.000000</td>\n",
       "      <td>4.000000e+00</td>\n",
       "    </tr>\n",
       "    <tr>\n",
       "      <th>mean</th>\n",
       "      <td>2010.214912</td>\n",
       "      <td>723.462312</td>\n",
       "      <td>69.750000</td>\n",
       "      <td>9.294118</td>\n",
       "      <td>NaN</td>\n",
       "      <td>NaN</td>\n",
       "      <td>NaN</td>\n",
       "      <td>NaN</td>\n",
       "      <td>99295.548387</td>\n",
       "      <td>2.013451e+07</td>\n",
       "    </tr>\n",
       "    <tr>\n",
       "      <th>std</th>\n",
       "      <td>6.172437</td>\n",
       "      <td>5156.031031</td>\n",
       "      <td>115.508658</td>\n",
       "      <td>14.032801</td>\n",
       "      <td>NaN</td>\n",
       "      <td>NaN</td>\n",
       "      <td>NaN</td>\n",
       "      <td>NaN</td>\n",
       "      <td>33891.037731</td>\n",
       "      <td>9.310620e+06</td>\n",
       "    </tr>\n",
       "    <tr>\n",
       "      <th>min</th>\n",
       "      <td>1981.000000</td>\n",
       "      <td>3.000000</td>\n",
       "      <td>10.000000</td>\n",
       "      <td>1.000000</td>\n",
       "      <td>NaN</td>\n",
       "      <td>NaN</td>\n",
       "      <td>NaN</td>\n",
       "      <td>NaN</td>\n",
       "      <td>6372.000000</td>\n",
       "      <td>1.030222e+07</td>\n",
       "    </tr>\n",
       "    <tr>\n",
       "      <th>25%</th>\n",
       "      <td>2007.000000</td>\n",
       "      <td>100.500000</td>\n",
       "      <td>12.250000</td>\n",
       "      <td>2.000000</td>\n",
       "      <td>NaN</td>\n",
       "      <td>NaN</td>\n",
       "      <td>NaN</td>\n",
       "      <td>NaN</td>\n",
       "      <td>84516.750000</td>\n",
       "      <td>1.424886e+07</td>\n",
       "    </tr>\n",
       "    <tr>\n",
       "      <th>50%</th>\n",
       "      <td>2011.000000</td>\n",
       "      <td>206.000000</td>\n",
       "      <td>13.000000</td>\n",
       "      <td>4.000000</td>\n",
       "      <td>NaN</td>\n",
       "      <td>NaN</td>\n",
       "      <td>NaN</td>\n",
       "      <td>NaN</td>\n",
       "      <td>92701.500000</td>\n",
       "      <td>1.924810e+07</td>\n",
       "    </tr>\n",
       "    <tr>\n",
       "      <th>75%</th>\n",
       "      <td>2014.000000</td>\n",
       "      <td>416.000000</td>\n",
       "      <td>70.500000</td>\n",
       "      <td>10.000000</td>\n",
       "      <td>NaN</td>\n",
       "      <td>NaN</td>\n",
       "      <td>NaN</td>\n",
       "      <td>NaN</td>\n",
       "      <td>109673.250000</td>\n",
       "      <td>2.513375e+07</td>\n",
       "    </tr>\n",
       "    <tr>\n",
       "      <th>max</th>\n",
       "      <td>2019.000000</td>\n",
       "      <td>72560.000000</td>\n",
       "      <td>243.000000</td>\n",
       "      <td>86.000000</td>\n",
       "      <td>NaN</td>\n",
       "      <td>NaN</td>\n",
       "      <td>NaN</td>\n",
       "      <td>NaN</td>\n",
       "      <td>227949.000000</td>\n",
       "      <td>3.173961e+07</td>\n",
       "    </tr>\n",
       "  </tbody>\n",
       "</table>\n",
       "</div>"
      ],
      "text/plain": [
       "              Year      Page end  Page count    Cited by  \\\n",
       "count   228.000000    199.000000    4.000000  153.000000   \n",
       "mean   2010.214912    723.462312   69.750000    9.294118   \n",
       "std       6.172437   5156.031031  115.508658   14.032801   \n",
       "min    1981.000000      3.000000   10.000000    1.000000   \n",
       "25%    2007.000000    100.500000   12.250000    2.000000   \n",
       "50%    2011.000000    206.000000   13.000000    4.000000   \n",
       "75%    2014.000000    416.000000   70.500000   10.000000   \n",
       "max    2019.000000  72560.000000  243.000000   86.000000   \n",
       "\n",
       "       Molecular Sequence Numbers  Chemicals/CAS  Tradenames  Manufacturers  \\\n",
       "count                         0.0            0.0         0.0            0.0   \n",
       "mean                          NaN            NaN         NaN            NaN   \n",
       "std                           NaN            NaN         NaN            NaN   \n",
       "min                           NaN            NaN         NaN            NaN   \n",
       "25%                           NaN            NaN         NaN            NaN   \n",
       "50%                           NaN            NaN         NaN            NaN   \n",
       "75%                           NaN            NaN         NaN            NaN   \n",
       "max                           NaN            NaN         NaN            NaN   \n",
       "\n",
       "       Conference code     PubMed ID  \n",
       "count        62.000000  4.000000e+00  \n",
       "mean      99295.548387  2.013451e+07  \n",
       "std       33891.037731  9.310620e+06  \n",
       "min        6372.000000  1.030222e+07  \n",
       "25%       84516.750000  1.424886e+07  \n",
       "50%       92701.500000  1.924810e+07  \n",
       "75%      109673.250000  2.513375e+07  \n",
       "max      227949.000000  3.173961e+07  "
      ]
     },
     "execution_count": 4,
     "metadata": {},
     "output_type": "execute_result"
    }
   ],
   "source": [
    "#let's get a summary statistics of our data\n",
    "df.describe()"
   ]
  },
  {
   "cell_type": "code",
   "execution_count": 5,
   "id": "a101b63f",
   "metadata": {},
   "outputs": [
    {
     "data": {
      "text/plain": [
       "0"
      ]
     },
     "execution_count": 5,
     "metadata": {},
     "output_type": "execute_result"
    }
   ],
   "source": [
    "#let's check for duplicated rows\n",
    "\n",
    "df.duplicated().sum()\n"
   ]
  },
  {
   "cell_type": "code",
   "execution_count": 6,
   "id": "7fb10cbb",
   "metadata": {},
   "outputs": [
    {
     "data": {
      "text/plain": [
       "Index(['Authors', 'Author(s) ID', 'Title', 'Year', 'Source title', 'Volume',\n",
       "       'Issue', 'Art. No.', 'Page start', 'Page end', 'Page count', 'Cited by',\n",
       "       'DOI', 'Link', 'Affiliations', 'Authors with affiliations', 'Abstract',\n",
       "       'Author Keywords', 'Index Keywords', 'Molecular Sequence Numbers',\n",
       "       'Chemicals/CAS', 'Tradenames', 'Manufacturers', 'Funding Details',\n",
       "       'Funding Text 1', 'Funding Text 2', 'References',\n",
       "       'Correspondence Address', 'Editors', 'Sponsors', 'Publisher',\n",
       "       'Conference name', 'Conference date', 'Conference location',\n",
       "       'Conference code', 'ISSN', 'ISBN', 'CODEN', 'PubMed ID',\n",
       "       'Language of Original Document', 'Abbreviated Source Title',\n",
       "       'Document Type', 'Publication Stage', 'Access Type', 'Source', 'EID'],\n",
       "      dtype='object')"
      ]
     },
     "execution_count": 6,
     "metadata": {},
     "output_type": "execute_result"
    }
   ],
   "source": [
    "#let's check for unique columns\n",
    "df.columns.unique()"
   ]
  },
  {
   "cell_type": "code",
   "execution_count": 7,
   "id": "13506d04",
   "metadata": {},
   "outputs": [
    {
     "data": {
      "text/plain": [
       "Index(['Authors', 'Title', 'Year', 'Source title', 'Cited by', 'Link',\n",
       "       'Affiliations', 'Authors with affiliations', 'Abstract',\n",
       "       'Author Keywords', 'Index Keywords', 'References', 'Publisher',\n",
       "       'Language of Original Document', 'Abbreviated Source Title',\n",
       "       'Document Type'],\n",
       "      dtype='object')"
      ]
     },
     "execution_count": 7,
     "metadata": {},
     "output_type": "execute_result"
    }
   ],
   "source": [
    "# let's drop columns that will not be used in our analysis\n",
    "\n",
    "cols=['Author(s) ID','Volume','Issue','Art. No.','Page start','Page end','Page count','DOI','Molecular Sequence Numbers','Chemicals/CAS','Tradenames','Manufacturers','Funding Details','Funding Text 1','Funding Text 2','Correspondence Address','Editors','Sponsors','Conference name','Conference date','Conference location','Conference code','ISBN','ISSN','CODEN','PubMed ID','Publication Stage','Access Type','Source','EID']\n",
    "efinance_df=df.drop(cols,axis=1)\n",
    "\n",
    "efinance_df.columns"
   ]
  },
  {
   "cell_type": "code",
   "execution_count": 8,
   "id": "bf666736",
   "metadata": {},
   "outputs": [
    {
     "data": {
      "text/plain": [
       "Index(['authors', 'title', 'year', 'source_title', 'cited_by', 'link',\n",
       "       'affiliations', 'authors_with_affiliations', 'abstract',\n",
       "       'author_keywords', 'index_keywords', 'references', 'publisher',\n",
       "       'language_of_original_document', 'abbreviated_source_title',\n",
       "       'document_type'],\n",
       "      dtype='object')"
      ]
     },
     "execution_count": 8,
     "metadata": {},
     "output_type": "execute_result"
    }
   ],
   "source": [
    "# #let's rename our columns to have the same naming format\n",
    "efinance_df=efinance_df.rename(columns=lambda x: x.strip().lower().replace(\" \",\"_\"))\n",
    "efinance_df.columns"
   ]
  },
  {
   "cell_type": "code",
   "execution_count": 9,
   "id": "9213a63c",
   "metadata": {
    "scrolled": false
   },
   "outputs": [],
   "source": [
    "#let's fill our our missing column\n",
    "efinance_df['cited_by']=efinance_df['cited_by'].fillna(0)"
   ]
  },
  {
   "cell_type": "code",
   "execution_count": 10,
   "id": "ec1e8c3b",
   "metadata": {},
   "outputs": [],
   "source": [
    "#let's fill other descriptive columns with nulls\n",
    "efinance_df=efinance_df.fillna('Not Provided')\n"
   ]
  },
  {
   "cell_type": "code",
   "execution_count": 11,
   "id": "980118de",
   "metadata": {},
   "outputs": [],
   "source": [
    "intcols=[ 'year','cited_by']\n",
    "strcols=['authors', 'title', 'source_title', 'link',\n",
    "       'affiliations', 'authors_with_affiliations', 'abstract',\n",
    "       'author_keywords', 'index_keywords', 'references', 'publisher',\n",
    "       'language_of_original_document', 'abbreviated_source_title',\n",
    "       'document_type']"
   ]
  },
  {
   "cell_type": "code",
   "execution_count": 12,
   "id": "258fa2d5",
   "metadata": {},
   "outputs": [
    {
     "name": "stdout",
     "output_type": "stream",
     "text": [
      "<class 'pandas.core.frame.DataFrame'>\n",
      "RangeIndex: 228 entries, 0 to 227\n",
      "Data columns (total 16 columns):\n",
      " #   Column                         Non-Null Count  Dtype \n",
      "---  ------                         --------------  ----- \n",
      " 0   authors                        228 non-null    object\n",
      " 1   title                          228 non-null    object\n",
      " 2   year                           228 non-null    int64 \n",
      " 3   source_title                   228 non-null    object\n",
      " 4   cited_by                       228 non-null    int64 \n",
      " 5   link                           228 non-null    object\n",
      " 6   affiliations                   228 non-null    object\n",
      " 7   authors_with_affiliations      228 non-null    object\n",
      " 8   abstract                       228 non-null    object\n",
      " 9   author_keywords                228 non-null    object\n",
      " 10  index_keywords                 228 non-null    object\n",
      " 11  references                     228 non-null    object\n",
      " 12  publisher                      228 non-null    object\n",
      " 13  language_of_original_document  228 non-null    object\n",
      " 14  abbreviated_source_title       228 non-null    object\n",
      " 15  document_type                  228 non-null    object\n",
      "dtypes: int64(2), object(14)\n",
      "memory usage: 28.6+ KB\n"
     ]
    }
   ],
   "source": [
    "#lets convert 'cited by' column to int (whole numbers)\n",
    "efinance_df[intcols] = efinance_df[intcols].astype('int64')\n",
    "efinance_df[strcols] = efinance_df[strcols].astype('str')\n",
    "efinance_df.info()"
   ]
  },
  {
   "cell_type": "code",
   "execution_count": 13,
   "id": "314b3d0d",
   "metadata": {},
   "outputs": [
    {
     "data": {
      "text/html": [
       "<div>\n",
       "<style scoped>\n",
       "    .dataframe tbody tr th:only-of-type {\n",
       "        vertical-align: middle;\n",
       "    }\n",
       "\n",
       "    .dataframe tbody tr th {\n",
       "        vertical-align: top;\n",
       "    }\n",
       "\n",
       "    .dataframe thead th {\n",
       "        text-align: right;\n",
       "    }\n",
       "</style>\n",
       "<table border=\"1\" class=\"dataframe\">\n",
       "  <thead>\n",
       "    <tr style=\"text-align: right;\">\n",
       "      <th></th>\n",
       "      <th>authors</th>\n",
       "      <th>title</th>\n",
       "      <th>year</th>\n",
       "      <th>source_title</th>\n",
       "      <th>cited_by</th>\n",
       "      <th>link</th>\n",
       "      <th>affiliations</th>\n",
       "      <th>authors_with_affiliations</th>\n",
       "      <th>abstract</th>\n",
       "      <th>author_keywords</th>\n",
       "      <th>index_keywords</th>\n",
       "      <th>references</th>\n",
       "      <th>publisher</th>\n",
       "      <th>language_of_original_document</th>\n",
       "      <th>abbreviated_source_title</th>\n",
       "      <th>document_type</th>\n",
       "    </tr>\n",
       "  </thead>\n",
       "  <tbody>\n",
       "    <tr>\n",
       "      <th>0</th>\n",
       "      <td>Beni E.H., Lagaisse B., Joosen W., Aly A., Bra...</td>\n",
       "      <td>Datablinder: A distributed data protection mid...</td>\n",
       "      <td>2019</td>\n",
       "      <td>Middleware Industry 2019 - Proceedings of the ...</td>\n",
       "      <td>0</td>\n",
       "      <td>https://www.scopus.com/inward/record.uri?eid=2...</td>\n",
       "      <td>imec-DistriNet, KU Leuven, Belgium; imec-COSIC...</td>\n",
       "      <td>Beni, E.H., imec-DistriNet, KU Leuven, Belgium...</td>\n",
       "      <td>Business application owners want to outsource ...</td>\n",
       "      <td>Data protection; Middleware; Security and privacy</td>\n",
       "      <td>Cryptography; Data privacy; Economic and socia...</td>\n",
       "      <td>Agrawal, R., Kiernan, J., Srikant, R., Xu, Y.,...</td>\n",
       "      <td>Association for Computing Machinery, Inc</td>\n",
       "      <td>English</td>\n",
       "      <td>Middlew. Ind. - Proc. Int. Middlew. Conf. Ind....</td>\n",
       "      <td>Conference Paper</td>\n",
       "    </tr>\n",
       "    <tr>\n",
       "      <th>1</th>\n",
       "      <td>Xiong H., Zhou Y.</td>\n",
       "      <td>Construction and Application of Ocean Shipping...</td>\n",
       "      <td>2019</td>\n",
       "      <td>Journal of Coastal Research</td>\n",
       "      <td>0</td>\n",
       "      <td>https://www.scopus.com/inward/record.uri?eid=2...</td>\n",
       "      <td>School of Management, Nanchang University, Nan...</td>\n",
       "      <td>Xiong, H., School of Management, Nanchang Univ...</td>\n",
       "      <td>The existing enterprise performance evaluation...</td>\n",
       "      <td>analytic hierarchy process; Environmental valu...</td>\n",
       "      <td>analytical hierarchy process; industrial enter...</td>\n",
       "      <td>Boczon, A., Dudzinska, M., Kowalska, A., Effec...</td>\n",
       "      <td>Coastal Education Research Foundation Inc.</td>\n",
       "      <td>English</td>\n",
       "      <td>J. Coast. Res.</td>\n",
       "      <td>Article</td>\n",
       "    </tr>\n",
       "    <tr>\n",
       "      <th>2</th>\n",
       "      <td>Feng L., Zhang H., Tsai W.-T., Sun S.</td>\n",
       "      <td>System architecture for high-performance permi...</td>\n",
       "      <td>2019</td>\n",
       "      <td>Frontiers of Computer Science</td>\n",
       "      <td>2</td>\n",
       "      <td>https://www.scopus.com/inward/record.uri?eid=2...</td>\n",
       "      <td>State Key Laboratory of Software Development E...</td>\n",
       "      <td>Feng, L., State Key Laboratory of Software Dev...</td>\n",
       "      <td>Blockchain(BC), as an emerging distributed dat...</td>\n",
       "      <td>blockchain; concurrency; consensus algorithm; ...</td>\n",
       "      <td>Blockchain; Boron carbide; Commerce; Internet ...</td>\n",
       "      <td>Garay, J., Kiayias, A., Leonardos, N., The bit...</td>\n",
       "      <td>Higher Education Press</td>\n",
       "      <td>English</td>\n",
       "      <td>Front. Comput. Sci.</td>\n",
       "      <td>Article</td>\n",
       "    </tr>\n",
       "    <tr>\n",
       "      <th>3</th>\n",
       "      <td>Rožkalne Z., Mukāns M., Vētra A.</td>\n",
       "      <td>Transition-age young adults with cerebral pals...</td>\n",
       "      <td>2019</td>\n",
       "      <td>Medicina (Lithuania)</td>\n",
       "      <td>0</td>\n",
       "      <td>https://www.scopus.com/inward/record.uri?eid=2...</td>\n",
       "      <td>Rehabilitation Clinic, Children’s Clinical Uni...</td>\n",
       "      <td>Rožkalne, Z., Rehabilitation Clinic, Children’...</td>\n",
       "      <td>Background and Objectives: The aim of this stu...</td>\n",
       "      <td>Cerebral palsy; Developmental transition; Disa...</td>\n",
       "      <td>Not Provided</td>\n",
       "      <td>Mutch, L., Alberman, E., Hagberg, B., Kodama, ...</td>\n",
       "      <td>MDPI AG</td>\n",
       "      <td>English</td>\n",
       "      <td>Medicina</td>\n",
       "      <td>Article</td>\n",
       "    </tr>\n",
       "    <tr>\n",
       "      <th>4</th>\n",
       "      <td>Alshubiri F., Jamil S.A., Elheddad M.</td>\n",
       "      <td>The impact of ICT on financial development: Em...</td>\n",
       "      <td>2019</td>\n",
       "      <td>International Journal of Engineering Business ...</td>\n",
       "      <td>0</td>\n",
       "      <td>https://www.scopus.com/inward/record.uri?eid=2...</td>\n",
       "      <td>Department of Finance and Economics, College o...</td>\n",
       "      <td>Alshubiri, F., Department of Finance and Econo...</td>\n",
       "      <td>The globalization revolution has led to many c...</td>\n",
       "      <td>E-finance; economic growth; financial developm...</td>\n",
       "      <td>Not Provided</td>\n",
       "      <td>Sassi, S., Goaied, M., Financial development, ...</td>\n",
       "      <td>SAGE Publications Inc.</td>\n",
       "      <td>English</td>\n",
       "      <td>Intern. J. Eng. Bus. Manage.</td>\n",
       "      <td>Article</td>\n",
       "    </tr>\n",
       "  </tbody>\n",
       "</table>\n",
       "</div>"
      ],
      "text/plain": [
       "                                             authors  \\\n",
       "0  Beni E.H., Lagaisse B., Joosen W., Aly A., Bra...   \n",
       "1                                  Xiong H., Zhou Y.   \n",
       "2              Feng L., Zhang H., Tsai W.-T., Sun S.   \n",
       "3                   Rožkalne Z., Mukāns M., Vētra A.   \n",
       "4              Alshubiri F., Jamil S.A., Elheddad M.   \n",
       "\n",
       "                                               title  year  \\\n",
       "0  Datablinder: A distributed data protection mid...  2019   \n",
       "1  Construction and Application of Ocean Shipping...  2019   \n",
       "2  System architecture for high-performance permi...  2019   \n",
       "3  Transition-age young adults with cerebral pals...  2019   \n",
       "4  The impact of ICT on financial development: Em...  2019   \n",
       "\n",
       "                                        source_title  cited_by  \\\n",
       "0  Middleware Industry 2019 - Proceedings of the ...         0   \n",
       "1                        Journal of Coastal Research         0   \n",
       "2                      Frontiers of Computer Science         2   \n",
       "3                               Medicina (Lithuania)         0   \n",
       "4  International Journal of Engineering Business ...         0   \n",
       "\n",
       "                                                link  \\\n",
       "0  https://www.scopus.com/inward/record.uri?eid=2...   \n",
       "1  https://www.scopus.com/inward/record.uri?eid=2...   \n",
       "2  https://www.scopus.com/inward/record.uri?eid=2...   \n",
       "3  https://www.scopus.com/inward/record.uri?eid=2...   \n",
       "4  https://www.scopus.com/inward/record.uri?eid=2...   \n",
       "\n",
       "                                        affiliations  \\\n",
       "0  imec-DistriNet, KU Leuven, Belgium; imec-COSIC...   \n",
       "1  School of Management, Nanchang University, Nan...   \n",
       "2  State Key Laboratory of Software Development E...   \n",
       "3  Rehabilitation Clinic, Children’s Clinical Uni...   \n",
       "4  Department of Finance and Economics, College o...   \n",
       "\n",
       "                           authors_with_affiliations  \\\n",
       "0  Beni, E.H., imec-DistriNet, KU Leuven, Belgium...   \n",
       "1  Xiong, H., School of Management, Nanchang Univ...   \n",
       "2  Feng, L., State Key Laboratory of Software Dev...   \n",
       "3  Rožkalne, Z., Rehabilitation Clinic, Children’...   \n",
       "4  Alshubiri, F., Department of Finance and Econo...   \n",
       "\n",
       "                                            abstract  \\\n",
       "0  Business application owners want to outsource ...   \n",
       "1  The existing enterprise performance evaluation...   \n",
       "2  Blockchain(BC), as an emerging distributed dat...   \n",
       "3  Background and Objectives: The aim of this stu...   \n",
       "4  The globalization revolution has led to many c...   \n",
       "\n",
       "                                     author_keywords  \\\n",
       "0  Data protection; Middleware; Security and privacy   \n",
       "1  analytic hierarchy process; Environmental valu...   \n",
       "2  blockchain; concurrency; consensus algorithm; ...   \n",
       "3  Cerebral palsy; Developmental transition; Disa...   \n",
       "4  E-finance; economic growth; financial developm...   \n",
       "\n",
       "                                      index_keywords  \\\n",
       "0  Cryptography; Data privacy; Economic and socia...   \n",
       "1  analytical hierarchy process; industrial enter...   \n",
       "2  Blockchain; Boron carbide; Commerce; Internet ...   \n",
       "3                                       Not Provided   \n",
       "4                                       Not Provided   \n",
       "\n",
       "                                          references  \\\n",
       "0  Agrawal, R., Kiernan, J., Srikant, R., Xu, Y.,...   \n",
       "1  Boczon, A., Dudzinska, M., Kowalska, A., Effec...   \n",
       "2  Garay, J., Kiayias, A., Leonardos, N., The bit...   \n",
       "3  Mutch, L., Alberman, E., Hagberg, B., Kodama, ...   \n",
       "4  Sassi, S., Goaied, M., Financial development, ...   \n",
       "\n",
       "                                    publisher language_of_original_document  \\\n",
       "0    Association for Computing Machinery, Inc                       English   \n",
       "1  Coastal Education Research Foundation Inc.                       English   \n",
       "2                      Higher Education Press                       English   \n",
       "3                                     MDPI AG                       English   \n",
       "4                      SAGE Publications Inc.                       English   \n",
       "\n",
       "                            abbreviated_source_title     document_type  \n",
       "0  Middlew. Ind. - Proc. Int. Middlew. Conf. Ind....  Conference Paper  \n",
       "1                                     J. Coast. Res.           Article  \n",
       "2                                Front. Comput. Sci.           Article  \n",
       "3                                           Medicina           Article  \n",
       "4                       Intern. J. Eng. Bus. Manage.           Article  "
      ]
     },
     "execution_count": 13,
     "metadata": {},
     "output_type": "execute_result"
    }
   ],
   "source": [
    "efinance_df.head()"
   ]
  },
  {
   "cell_type": "markdown",
   "id": "54fe045f",
   "metadata": {},
   "source": [
    "#### From our data above,we dropped columns that will not be needed in our analysis.\n",
    "#### We renamed our columns to have the same format.\n",
    "#### We filled missing values with appropriate values.\n",
    "#### We converted  'cited_by' column from float to int data type"
   ]
  },
  {
   "cell_type": "code",
   "execution_count": 14,
   "id": "dda4a9ce",
   "metadata": {},
   "outputs": [],
   "source": [
    "from skimpy import skim"
   ]
  },
  {
   "cell_type": "code",
   "execution_count": 15,
   "id": "351c4b69",
   "metadata": {},
   "outputs": [
    {
     "data": {
      "text/html": [
       "<pre style=\"white-space:pre;overflow-x:auto;line-height:normal;font-family:Menlo,'DejaVu Sans Mono',consolas,'Courier New',monospace\">╭──────────────────────────────────────────────── skimpy summary ─────────────────────────────────────────────────╮\n",
       "│ <span style=\"font-style: italic\">         Data Summary         </span> <span style=\"font-style: italic\">      Data Types       </span>                                                          │\n",
       "│ ┏━━━━━━━━━━━━━━━━━━━┳━━━━━━━━┓ ┏━━━━━━━━━━━━━┳━━━━━━━┓                                                          │\n",
       "│ ┃<span style=\"color: #008080; text-decoration-color: #008080; font-weight: bold\"> dataframe         </span>┃<span style=\"color: #008080; text-decoration-color: #008080; font-weight: bold\"> Values </span>┃ ┃<span style=\"color: #008080; text-decoration-color: #008080; font-weight: bold\"> Column Type </span>┃<span style=\"color: #008080; text-decoration-color: #008080; font-weight: bold\"> Count </span>┃                                                          │\n",
       "│ ┡━━━━━━━━━━━━━━━━━━━╇━━━━━━━━┩ ┡━━━━━━━━━━━━━╇━━━━━━━┩                                                          │\n",
       "│ │ Number of rows    │ 228    │ │ string      │ 14    │                                                          │\n",
       "│ │ Number of columns │ 16     │ │ int32       │ 2     │                                                          │\n",
       "│ └───────────────────┴────────┘ └─────────────┴───────┘                                                          │\n",
       "│ <span style=\"font-style: italic\">                                                    number                                                    </span>  │\n",
       "│ ┏━━━━━━━━━━━━━━━━━━━━┳━━━━━━┳━━━━━━━━━┳━━━━━━━━━┳━━━━━━━━┳━━━━━━━━━┳━━━━━━━━━┳━━━━━━━━━┳━━━━━━━━━┳━━━━━━━━━━━┓  │\n",
       "│ ┃<span style=\"font-weight: bold\"> column_name        </span>┃<span style=\"font-weight: bold\"> NA   </span>┃<span style=\"font-weight: bold\"> NA %    </span>┃<span style=\"font-weight: bold\"> mean    </span>┃<span style=\"font-weight: bold\"> sd     </span>┃<span style=\"font-weight: bold\"> p0      </span>┃<span style=\"font-weight: bold\"> p25     </span>┃<span style=\"font-weight: bold\"> p75     </span>┃<span style=\"font-weight: bold\"> p100    </span>┃<span style=\"font-weight: bold\"> hist      </span>┃  │\n",
       "│ ┡━━━━━━━━━━━━━━━━━━━━╇━━━━━━╇━━━━━━━━━╇━━━━━━━━━╇━━━━━━━━╇━━━━━━━━━╇━━━━━━━━━╇━━━━━━━━━╇━━━━━━━━━╇━━━━━━━━━━━┩  │\n",
       "│ │ <span style=\"color: #af87ff; text-decoration-color: #af87ff\">year              </span> │ <span style=\"color: #008080; text-decoration-color: #008080\">   0</span> │ <span style=\"color: #008080; text-decoration-color: #008080\">      0</span> │ <span style=\"color: #008080; text-decoration-color: #008080\">   2000</span> │ <span style=\"color: #008080; text-decoration-color: #008080\">   6.2</span> │ <span style=\"color: #008080; text-decoration-color: #008080\">   2000</span> │ <span style=\"color: #008080; text-decoration-color: #008080\">   2000</span> │ <span style=\"color: #008080; text-decoration-color: #008080\">   2000</span> │ <span style=\"color: #008080; text-decoration-color: #008080\">   2000</span> │ <span style=\"color: #008000; text-decoration-color: #008000\">    ▄█▆  </span> │  │\n",
       "│ │ <span style=\"color: #af87ff; text-decoration-color: #af87ff\">cited_by          </span> │ <span style=\"color: #008080; text-decoration-color: #008080\">   0</span> │ <span style=\"color: #008080; text-decoration-color: #008080\">      0</span> │ <span style=\"color: #008080; text-decoration-color: #008080\">    6.2</span> │ <span style=\"color: #008080; text-decoration-color: #008080\">    12</span> │ <span style=\"color: #008080; text-decoration-color: #008080\">      0</span> │ <span style=\"color: #008080; text-decoration-color: #008080\">      0</span> │ <span style=\"color: #008080; text-decoration-color: #008080\">      6</span> │ <span style=\"color: #008080; text-decoration-color: #008080\">     86</span> │ <span style=\"color: #008000; text-decoration-color: #008000\">    █    </span> │  │\n",
       "│ └────────────────────┴──────┴─────────┴─────────┴────────┴─────────┴─────────┴─────────┴─────────┴───────────┘  │\n",
       "│ <span style=\"font-style: italic\">                                                    string                                                    </span>  │\n",
       "│ ┏━━━━━━━━━━━━━━━━━━━━━━━━━━━━━━━━━━━━━━━┳━━━━━━━┳━━━━━━━━━━━┳━━━━━━━━━━━━━━━━━━━━━━━━━━┳━━━━━━━━━━━━━━━━━━━━━┓  │\n",
       "│ ┃<span style=\"font-weight: bold\"> column_name                           </span>┃<span style=\"font-weight: bold\"> NA    </span>┃<span style=\"font-weight: bold\"> NA %      </span>┃<span style=\"font-weight: bold\"> words per row            </span>┃<span style=\"font-weight: bold\"> total words         </span>┃  │\n",
       "│ ┡━━━━━━━━━━━━━━━━━━━━━━━━━━━━━━━━━━━━━━━╇━━━━━━━╇━━━━━━━━━━━╇━━━━━━━━━━━━━━━━━━━━━━━━━━╇━━━━━━━━━━━━━━━━━━━━━┩  │\n",
       "│ │ <span style=\"color: #af87ff; text-decoration-color: #af87ff\">authors                              </span> │ <span style=\"color: #008080; text-decoration-color: #008080\">    0</span> │ <span style=\"color: #008080; text-decoration-color: #008080\">        0</span> │ <span style=\"color: #008080; text-decoration-color: #008080\">                       5</span> │ <span style=\"color: #008080; text-decoration-color: #008080\">               1100</span> │  │\n",
       "│ │ <span style=\"color: #af87ff; text-decoration-color: #af87ff\">title                                </span> │ <span style=\"color: #008080; text-decoration-color: #008080\">    0</span> │ <span style=\"color: #008080; text-decoration-color: #008080\">        0</span> │ <span style=\"color: #008080; text-decoration-color: #008080\">                       5</span> │ <span style=\"color: #008080; text-decoration-color: #008080\">               1100</span> │  │\n",
       "│ │ <span style=\"color: #af87ff; text-decoration-color: #af87ff\">source_title                         </span> │ <span style=\"color: #008080; text-decoration-color: #008080\">    0</span> │ <span style=\"color: #008080; text-decoration-color: #008080\">        0</span> │ <span style=\"color: #008080; text-decoration-color: #008080\">                       5</span> │ <span style=\"color: #008080; text-decoration-color: #008080\">               1100</span> │  │\n",
       "│ │ <span style=\"color: #af87ff; text-decoration-color: #af87ff\">link                                 </span> │ <span style=\"color: #008080; text-decoration-color: #008080\">    0</span> │ <span style=\"color: #008080; text-decoration-color: #008080\">        0</span> │ <span style=\"color: #008080; text-decoration-color: #008080\">                       5</span> │ <span style=\"color: #008080; text-decoration-color: #008080\">               1100</span> │  │\n",
       "│ │ <span style=\"color: #af87ff; text-decoration-color: #af87ff\">affiliations                         </span> │ <span style=\"color: #008080; text-decoration-color: #008080\">    0</span> │ <span style=\"color: #008080; text-decoration-color: #008080\">        0</span> │ <span style=\"color: #008080; text-decoration-color: #008080\">                       5</span> │ <span style=\"color: #008080; text-decoration-color: #008080\">               1100</span> │  │\n",
       "│ │ <span style=\"color: #af87ff; text-decoration-color: #af87ff\">authors_with_affilia                 </span> │ <span style=\"color: #008080; text-decoration-color: #008080\">    0</span> │ <span style=\"color: #008080; text-decoration-color: #008080\">        0</span> │ <span style=\"color: #008080; text-decoration-color: #008080\">                       5</span> │ <span style=\"color: #008080; text-decoration-color: #008080\">               1100</span> │  │\n",
       "│ │ <span style=\"color: #af87ff; text-decoration-color: #af87ff\">abstract                             </span> │ <span style=\"color: #008080; text-decoration-color: #008080\">    0</span> │ <span style=\"color: #008080; text-decoration-color: #008080\">        0</span> │ <span style=\"color: #008080; text-decoration-color: #008080\">                       5</span> │ <span style=\"color: #008080; text-decoration-color: #008080\">               1100</span> │  │\n",
       "│ │ <span style=\"color: #af87ff; text-decoration-color: #af87ff\">author_keywords                      </span> │ <span style=\"color: #008080; text-decoration-color: #008080\">    0</span> │ <span style=\"color: #008080; text-decoration-color: #008080\">        0</span> │ <span style=\"color: #008080; text-decoration-color: #008080\">                       5</span> │ <span style=\"color: #008080; text-decoration-color: #008080\">               1100</span> │  │\n",
       "│ │ <span style=\"color: #af87ff; text-decoration-color: #af87ff\">index_keywords                       </span> │ <span style=\"color: #008080; text-decoration-color: #008080\">    0</span> │ <span style=\"color: #008080; text-decoration-color: #008080\">        0</span> │ <span style=\"color: #008080; text-decoration-color: #008080\">                       5</span> │ <span style=\"color: #008080; text-decoration-color: #008080\">               1100</span> │  │\n",
       "│ │ <span style=\"color: #af87ff; text-decoration-color: #af87ff\">references                           </span> │ <span style=\"color: #008080; text-decoration-color: #008080\">    0</span> │ <span style=\"color: #008080; text-decoration-color: #008080\">        0</span> │ <span style=\"color: #008080; text-decoration-color: #008080\">                       5</span> │ <span style=\"color: #008080; text-decoration-color: #008080\">               1100</span> │  │\n",
       "│ │ <span style=\"color: #af87ff; text-decoration-color: #af87ff\">publisher                            </span> │ <span style=\"color: #008080; text-decoration-color: #008080\">    0</span> │ <span style=\"color: #008080; text-decoration-color: #008080\">        0</span> │ <span style=\"color: #008080; text-decoration-color: #008080\">                       5</span> │ <span style=\"color: #008080; text-decoration-color: #008080\">               1100</span> │  │\n",
       "│ │ <span style=\"color: #af87ff; text-decoration-color: #af87ff\">language_of_original                 </span> │ <span style=\"color: #008080; text-decoration-color: #008080\">    0</span> │ <span style=\"color: #008080; text-decoration-color: #008080\">        0</span> │ <span style=\"color: #008080; text-decoration-color: #008080\">                       5</span> │ <span style=\"color: #008080; text-decoration-color: #008080\">               1100</span> │  │\n",
       "│ │ <span style=\"color: #af87ff; text-decoration-color: #af87ff\">abbreviated_source_t                 </span> │ <span style=\"color: #008080; text-decoration-color: #008080\">    0</span> │ <span style=\"color: #008080; text-decoration-color: #008080\">        0</span> │ <span style=\"color: #008080; text-decoration-color: #008080\">                       5</span> │ <span style=\"color: #008080; text-decoration-color: #008080\">               1100</span> │  │\n",
       "│ │ <span style=\"color: #af87ff; text-decoration-color: #af87ff\">document_type                        </span> │ <span style=\"color: #008080; text-decoration-color: #008080\">    0</span> │ <span style=\"color: #008080; text-decoration-color: #008080\">        0</span> │ <span style=\"color: #008080; text-decoration-color: #008080\">                       5</span> │ <span style=\"color: #008080; text-decoration-color: #008080\">               1100</span> │  │\n",
       "│ └───────────────────────────────────────┴───────┴───────────┴──────────────────────────┴─────────────────────┘  │\n",
       "╰────────────────────────────────────────────────────── End ──────────────────────────────────────────────────────╯\n",
       "</pre>\n"
      ],
      "text/plain": [
       "╭──────────────────────────────────────────────── skimpy summary ─────────────────────────────────────────────────╮\n",
       "│ \u001b[3m         Data Summary         \u001b[0m \u001b[3m      Data Types       \u001b[0m                                                          │\n",
       "│ ┏━━━━━━━━━━━━━━━━━━━┳━━━━━━━━┓ ┏━━━━━━━━━━━━━┳━━━━━━━┓                                                          │\n",
       "│ ┃\u001b[1;36m \u001b[0m\u001b[1;36mdataframe        \u001b[0m\u001b[1;36m \u001b[0m┃\u001b[1;36m \u001b[0m\u001b[1;36mValues\u001b[0m\u001b[1;36m \u001b[0m┃ ┃\u001b[1;36m \u001b[0m\u001b[1;36mColumn Type\u001b[0m\u001b[1;36m \u001b[0m┃\u001b[1;36m \u001b[0m\u001b[1;36mCount\u001b[0m\u001b[1;36m \u001b[0m┃                                                          │\n",
       "│ ┡━━━━━━━━━━━━━━━━━━━╇━━━━━━━━┩ ┡━━━━━━━━━━━━━╇━━━━━━━┩                                                          │\n",
       "│ │ Number of rows    │ 228    │ │ string      │ 14    │                                                          │\n",
       "│ │ Number of columns │ 16     │ │ int32       │ 2     │                                                          │\n",
       "│ └───────────────────┴────────┘ └─────────────┴───────┘                                                          │\n",
       "│ \u001b[3m                                                    number                                                    \u001b[0m  │\n",
       "│ ┏━━━━━━━━━━━━━━━━━━━━┳━━━━━━┳━━━━━━━━━┳━━━━━━━━━┳━━━━━━━━┳━━━━━━━━━┳━━━━━━━━━┳━━━━━━━━━┳━━━━━━━━━┳━━━━━━━━━━━┓  │\n",
       "│ ┃\u001b[1m \u001b[0m\u001b[1mcolumn_name       \u001b[0m\u001b[1m \u001b[0m┃\u001b[1m \u001b[0m\u001b[1mNA  \u001b[0m\u001b[1m \u001b[0m┃\u001b[1m \u001b[0m\u001b[1mNA %   \u001b[0m\u001b[1m \u001b[0m┃\u001b[1m \u001b[0m\u001b[1mmean   \u001b[0m\u001b[1m \u001b[0m┃\u001b[1m \u001b[0m\u001b[1msd    \u001b[0m\u001b[1m \u001b[0m┃\u001b[1m \u001b[0m\u001b[1mp0     \u001b[0m\u001b[1m \u001b[0m┃\u001b[1m \u001b[0m\u001b[1mp25    \u001b[0m\u001b[1m \u001b[0m┃\u001b[1m \u001b[0m\u001b[1mp75    \u001b[0m\u001b[1m \u001b[0m┃\u001b[1m \u001b[0m\u001b[1mp100   \u001b[0m\u001b[1m \u001b[0m┃\u001b[1m \u001b[0m\u001b[1mhist     \u001b[0m\u001b[1m \u001b[0m┃  │\n",
       "│ ┡━━━━━━━━━━━━━━━━━━━━╇━━━━━━╇━━━━━━━━━╇━━━━━━━━━╇━━━━━━━━╇━━━━━━━━━╇━━━━━━━━━╇━━━━━━━━━╇━━━━━━━━━╇━━━━━━━━━━━┩  │\n",
       "│ │ \u001b[38;5;141myear              \u001b[0m │ \u001b[36m   0\u001b[0m │ \u001b[36m      0\u001b[0m │ \u001b[36m   2000\u001b[0m │ \u001b[36m   6.2\u001b[0m │ \u001b[36m   2000\u001b[0m │ \u001b[36m   2000\u001b[0m │ \u001b[36m   2000\u001b[0m │ \u001b[36m   2000\u001b[0m │ \u001b[32m    ▄█▆  \u001b[0m │  │\n",
       "│ │ \u001b[38;5;141mcited_by          \u001b[0m │ \u001b[36m   0\u001b[0m │ \u001b[36m      0\u001b[0m │ \u001b[36m    6.2\u001b[0m │ \u001b[36m    12\u001b[0m │ \u001b[36m      0\u001b[0m │ \u001b[36m      0\u001b[0m │ \u001b[36m      6\u001b[0m │ \u001b[36m     86\u001b[0m │ \u001b[32m    █    \u001b[0m │  │\n",
       "│ └────────────────────┴──────┴─────────┴─────────┴────────┴─────────┴─────────┴─────────┴─────────┴───────────┘  │\n",
       "│ \u001b[3m                                                    string                                                    \u001b[0m  │\n",
       "│ ┏━━━━━━━━━━━━━━━━━━━━━━━━━━━━━━━━━━━━━━━┳━━━━━━━┳━━━━━━━━━━━┳━━━━━━━━━━━━━━━━━━━━━━━━━━┳━━━━━━━━━━━━━━━━━━━━━┓  │\n",
       "│ ┃\u001b[1m \u001b[0m\u001b[1mcolumn_name                          \u001b[0m\u001b[1m \u001b[0m┃\u001b[1m \u001b[0m\u001b[1mNA   \u001b[0m\u001b[1m \u001b[0m┃\u001b[1m \u001b[0m\u001b[1mNA %     \u001b[0m\u001b[1m \u001b[0m┃\u001b[1m \u001b[0m\u001b[1mwords per row           \u001b[0m\u001b[1m \u001b[0m┃\u001b[1m \u001b[0m\u001b[1mtotal words        \u001b[0m\u001b[1m \u001b[0m┃  │\n",
       "│ ┡━━━━━━━━━━━━━━━━━━━━━━━━━━━━━━━━━━━━━━━╇━━━━━━━╇━━━━━━━━━━━╇━━━━━━━━━━━━━━━━━━━━━━━━━━╇━━━━━━━━━━━━━━━━━━━━━┩  │\n",
       "│ │ \u001b[38;5;141mauthors                              \u001b[0m │ \u001b[36m    0\u001b[0m │ \u001b[36m        0\u001b[0m │ \u001b[36m                       5\u001b[0m │ \u001b[36m               1100\u001b[0m │  │\n",
       "│ │ \u001b[38;5;141mtitle                                \u001b[0m │ \u001b[36m    0\u001b[0m │ \u001b[36m        0\u001b[0m │ \u001b[36m                       5\u001b[0m │ \u001b[36m               1100\u001b[0m │  │\n",
       "│ │ \u001b[38;5;141msource_title                         \u001b[0m │ \u001b[36m    0\u001b[0m │ \u001b[36m        0\u001b[0m │ \u001b[36m                       5\u001b[0m │ \u001b[36m               1100\u001b[0m │  │\n",
       "│ │ \u001b[38;5;141mlink                                 \u001b[0m │ \u001b[36m    0\u001b[0m │ \u001b[36m        0\u001b[0m │ \u001b[36m                       5\u001b[0m │ \u001b[36m               1100\u001b[0m │  │\n",
       "│ │ \u001b[38;5;141maffiliations                         \u001b[0m │ \u001b[36m    0\u001b[0m │ \u001b[36m        0\u001b[0m │ \u001b[36m                       5\u001b[0m │ \u001b[36m               1100\u001b[0m │  │\n",
       "│ │ \u001b[38;5;141mauthors_with_affilia                 \u001b[0m │ \u001b[36m    0\u001b[0m │ \u001b[36m        0\u001b[0m │ \u001b[36m                       5\u001b[0m │ \u001b[36m               1100\u001b[0m │  │\n",
       "│ │ \u001b[38;5;141mabstract                             \u001b[0m │ \u001b[36m    0\u001b[0m │ \u001b[36m        0\u001b[0m │ \u001b[36m                       5\u001b[0m │ \u001b[36m               1100\u001b[0m │  │\n",
       "│ │ \u001b[38;5;141mauthor_keywords                      \u001b[0m │ \u001b[36m    0\u001b[0m │ \u001b[36m        0\u001b[0m │ \u001b[36m                       5\u001b[0m │ \u001b[36m               1100\u001b[0m │  │\n",
       "│ │ \u001b[38;5;141mindex_keywords                       \u001b[0m │ \u001b[36m    0\u001b[0m │ \u001b[36m        0\u001b[0m │ \u001b[36m                       5\u001b[0m │ \u001b[36m               1100\u001b[0m │  │\n",
       "│ │ \u001b[38;5;141mreferences                           \u001b[0m │ \u001b[36m    0\u001b[0m │ \u001b[36m        0\u001b[0m │ \u001b[36m                       5\u001b[0m │ \u001b[36m               1100\u001b[0m │  │\n",
       "│ │ \u001b[38;5;141mpublisher                            \u001b[0m │ \u001b[36m    0\u001b[0m │ \u001b[36m        0\u001b[0m │ \u001b[36m                       5\u001b[0m │ \u001b[36m               1100\u001b[0m │  │\n",
       "│ │ \u001b[38;5;141mlanguage_of_original                 \u001b[0m │ \u001b[36m    0\u001b[0m │ \u001b[36m        0\u001b[0m │ \u001b[36m                       5\u001b[0m │ \u001b[36m               1100\u001b[0m │  │\n",
       "│ │ \u001b[38;5;141mabbreviated_source_t                 \u001b[0m │ \u001b[36m    0\u001b[0m │ \u001b[36m        0\u001b[0m │ \u001b[36m                       5\u001b[0m │ \u001b[36m               1100\u001b[0m │  │\n",
       "│ │ \u001b[38;5;141mdocument_type                        \u001b[0m │ \u001b[36m    0\u001b[0m │ \u001b[36m        0\u001b[0m │ \u001b[36m                       5\u001b[0m │ \u001b[36m               1100\u001b[0m │  │\n",
       "│ └───────────────────────────────────────┴───────┴───────────┴──────────────────────────┴─────────────────────┘  │\n",
       "╰────────────────────────────────────────────────────── End ──────────────────────────────────────────────────────╯\n"
      ]
     },
     "metadata": {},
     "output_type": "display_data"
    }
   ],
   "source": [
    "# Getting detailed summary of the data\n",
    "skim(efinance_df)"
   ]
  },
  {
   "cell_type": "markdown",
   "id": "1819f8b5",
   "metadata": {},
   "source": [
    "### What is the most cited document"
   ]
  },
  {
   "cell_type": "code",
   "execution_count": 16,
   "id": "5a93412d",
   "metadata": {},
   "outputs": [
    {
     "data": {
      "text/html": [
       "<div>\n",
       "<style scoped>\n",
       "    .dataframe tbody tr th:only-of-type {\n",
       "        vertical-align: middle;\n",
       "    }\n",
       "\n",
       "    .dataframe tbody tr th {\n",
       "        vertical-align: top;\n",
       "    }\n",
       "\n",
       "    .dataframe thead th {\n",
       "        text-align: right;\n",
       "    }\n",
       "</style>\n",
       "<table border=\"1\" class=\"dataframe\">\n",
       "  <thead>\n",
       "    <tr style=\"text-align: right;\">\n",
       "      <th></th>\n",
       "      <th>authors</th>\n",
       "      <th>title</th>\n",
       "      <th>year</th>\n",
       "      <th>source_title</th>\n",
       "      <th>cited_by</th>\n",
       "      <th>link</th>\n",
       "      <th>affiliations</th>\n",
       "      <th>authors_with_affiliations</th>\n",
       "      <th>abstract</th>\n",
       "      <th>author_keywords</th>\n",
       "      <th>index_keywords</th>\n",
       "      <th>references</th>\n",
       "      <th>publisher</th>\n",
       "      <th>language_of_original_document</th>\n",
       "      <th>abbreviated_source_title</th>\n",
       "      <th>document_type</th>\n",
       "    </tr>\n",
       "  </thead>\n",
       "  <tbody>\n",
       "    <tr>\n",
       "      <th>139</th>\n",
       "      <td>Greiner M.E., Wang H.</td>\n",
       "      <td>Building consumer-to-consumer trust in E-finan...</td>\n",
       "      <td>2010</td>\n",
       "      <td>International Journal of Electronic Commerce</td>\n",
       "      <td>86</td>\n",
       "      <td>https://www.scopus.com/inward/record.uri?eid=2...</td>\n",
       "      <td>Department of Information Systems and Quantita...</td>\n",
       "      <td>Greiner, M.E., Department of Information Syste...</td>\n",
       "      <td>People-to-people (P2P) lending, a specialized ...</td>\n",
       "      <td>E-finance; elaboration likelihood model; on-li...</td>\n",
       "      <td>Not Provided</td>\n",
       "      <td>Aaronson, D., A note on the benefits of homeow...</td>\n",
       "      <td>Not Provided</td>\n",
       "      <td>English</td>\n",
       "      <td>Int. J. Elect. Commer.</td>\n",
       "      <td>Article</td>\n",
       "    </tr>\n",
       "  </tbody>\n",
       "</table>\n",
       "</div>"
      ],
      "text/plain": [
       "                   authors                                              title  \\\n",
       "139  Greiner M.E., Wang H.  Building consumer-to-consumer trust in E-finan...   \n",
       "\n",
       "     year                                  source_title  cited_by  \\\n",
       "139  2010  International Journal of Electronic Commerce        86   \n",
       "\n",
       "                                                  link  \\\n",
       "139  https://www.scopus.com/inward/record.uri?eid=2...   \n",
       "\n",
       "                                          affiliations  \\\n",
       "139  Department of Information Systems and Quantita...   \n",
       "\n",
       "                             authors_with_affiliations  \\\n",
       "139  Greiner, M.E., Department of Information Syste...   \n",
       "\n",
       "                                              abstract  \\\n",
       "139  People-to-people (P2P) lending, a specialized ...   \n",
       "\n",
       "                                       author_keywords index_keywords  \\\n",
       "139  E-finance; elaboration likelihood model; on-li...   Not Provided   \n",
       "\n",
       "                                            references     publisher  \\\n",
       "139  Aaronson, D., A note on the benefits of homeow...  Not Provided   \n",
       "\n",
       "    language_of_original_document abbreviated_source_title document_type  \n",
       "139                       English   Int. J. Elect. Commer.       Article  "
      ]
     },
     "execution_count": 16,
     "metadata": {},
     "output_type": "execute_result"
    }
   ],
   "source": [
    "# The maximum number of citations = 86\n",
    "# getting the documnet with the highest citations\n",
    "efinance_df.query(\"cited_by == 86\")"
   ]
  },
  {
   "cell_type": "markdown",
   "id": "6d7737f1",
   "metadata": {},
   "source": [
    "### What is the most cited documnet type"
   ]
  },
  {
   "cell_type": "code",
   "execution_count": 17,
   "id": "60ff9c8d",
   "metadata": {},
   "outputs": [
    {
     "data": {
      "text/html": [
       "<div>\n",
       "<style scoped>\n",
       "    .dataframe tbody tr th:only-of-type {\n",
       "        vertical-align: middle;\n",
       "    }\n",
       "\n",
       "    .dataframe tbody tr th {\n",
       "        vertical-align: top;\n",
       "    }\n",
       "\n",
       "    .dataframe thead th {\n",
       "        text-align: right;\n",
       "    }\n",
       "</style>\n",
       "<table border=\"1\" class=\"dataframe\">\n",
       "  <thead>\n",
       "    <tr style=\"text-align: right;\">\n",
       "      <th></th>\n",
       "      <th>cited_by</th>\n",
       "    </tr>\n",
       "    <tr>\n",
       "      <th>document_type</th>\n",
       "      <th></th>\n",
       "    </tr>\n",
       "  </thead>\n",
       "  <tbody>\n",
       "    <tr>\n",
       "      <th>Article</th>\n",
       "      <td>1030</td>\n",
       "    </tr>\n",
       "    <tr>\n",
       "      <th>Book</th>\n",
       "      <td>2</td>\n",
       "    </tr>\n",
       "    <tr>\n",
       "      <th>Book Chapter</th>\n",
       "      <td>12</td>\n",
       "    </tr>\n",
       "    <tr>\n",
       "      <th>Conference Paper</th>\n",
       "      <td>194</td>\n",
       "    </tr>\n",
       "    <tr>\n",
       "      <th>Conference Review</th>\n",
       "      <td>0</td>\n",
       "    </tr>\n",
       "    <tr>\n",
       "      <th>Editorial</th>\n",
       "      <td>13</td>\n",
       "    </tr>\n",
       "    <tr>\n",
       "      <th>Review</th>\n",
       "      <td>171</td>\n",
       "    </tr>\n",
       "  </tbody>\n",
       "</table>\n",
       "</div>"
      ],
      "text/plain": [
       "                   cited_by\n",
       "document_type              \n",
       "Article                1030\n",
       "Book                      2\n",
       "Book Chapter             12\n",
       "Conference Paper        194\n",
       "Conference Review         0\n",
       "Editorial                13\n",
       "Review                  171"
      ]
     },
     "execution_count": 17,
     "metadata": {},
     "output_type": "execute_result"
    }
   ],
   "source": [
    "# Grouping the documets by document \n",
    "citation = efinance_df.groupby(\"document_type\").agg({\"cited_by\":\"sum\"})\n",
    "citation"
   ]
  },
  {
   "cell_type": "code",
   "execution_count": 53,
   "id": "77ebe282",
   "metadata": {},
   "outputs": [
    {
     "data": {
      "text/html": [
       "<div>\n",
       "<style scoped>\n",
       "    .dataframe tbody tr th:only-of-type {\n",
       "        vertical-align: middle;\n",
       "    }\n",
       "\n",
       "    .dataframe tbody tr th {\n",
       "        vertical-align: top;\n",
       "    }\n",
       "\n",
       "    .dataframe thead th {\n",
       "        text-align: right;\n",
       "    }\n",
       "</style>\n",
       "<table border=\"1\" class=\"dataframe\">\n",
       "  <thead>\n",
       "    <tr style=\"text-align: right;\">\n",
       "      <th></th>\n",
       "      <th>document_type</th>\n",
       "      <th>cited_by</th>\n",
       "    </tr>\n",
       "  </thead>\n",
       "  <tbody>\n",
       "    <tr>\n",
       "      <th>0</th>\n",
       "      <td>Article</td>\n",
       "      <td>1030</td>\n",
       "    </tr>\n",
       "    <tr>\n",
       "      <th>1</th>\n",
       "      <td>Conference Paper</td>\n",
       "      <td>194</td>\n",
       "    </tr>\n",
       "    <tr>\n",
       "      <th>2</th>\n",
       "      <td>Review</td>\n",
       "      <td>171</td>\n",
       "    </tr>\n",
       "    <tr>\n",
       "      <th>3</th>\n",
       "      <td>Editorial</td>\n",
       "      <td>13</td>\n",
       "    </tr>\n",
       "    <tr>\n",
       "      <th>4</th>\n",
       "      <td>Book Chapter</td>\n",
       "      <td>12</td>\n",
       "    </tr>\n",
       "    <tr>\n",
       "      <th>5</th>\n",
       "      <td>Book</td>\n",
       "      <td>2</td>\n",
       "    </tr>\n",
       "    <tr>\n",
       "      <th>6</th>\n",
       "      <td>Conference Review</td>\n",
       "      <td>0</td>\n",
       "    </tr>\n",
       "  </tbody>\n",
       "</table>\n",
       "</div>"
      ],
      "text/plain": [
       "       document_type  cited_by\n",
       "0            Article      1030\n",
       "1   Conference Paper       194\n",
       "2             Review       171\n",
       "3          Editorial        13\n",
       "4       Book Chapter        12\n",
       "5               Book         2\n",
       "6  Conference Review         0"
      ]
     },
     "execution_count": 53,
     "metadata": {},
     "output_type": "execute_result"
    }
   ],
   "source": [
    "citation = citation.sort_values('cited_by', ascending = False).reset_index()\n",
    "citation"
   ]
  },
  {
   "cell_type": "code",
   "execution_count": 54,
   "id": "ea1ff8ab",
   "metadata": {},
   "outputs": [
    {
     "data": {
      "image/png": "[encoded data removed]",
      "text/plain": [
       "<Figure size 864x432 with 1 Axes>"
      ]
     },
     "metadata": {
      "needs_background": "light"
     },
     "output_type": "display_data"
    },
    {
     "data": {
      "text/plain": [
       "<Figure size 432x288 with 0 Axes>"
      ]
     },
     "metadata": {},
     "output_type": "display_data"
    }
   ],
   "source": [
    "fig, ax = plt.subplots(figsize= (12,6))\n",
    "g = sns.barplot(data = citation, x = \"document_type\", y = \"cited_by\", ax = ax)\n",
    "g.set(title = \"Number of Citations per document type\",\n",
    "     xlabel = \"document_type\", \n",
    "     ylabel = \"Number of Citations\")\n",
    "plt.xticks(rotation = 90)\n",
    "plt.show()\n",
    "plt.clf()"
   ]
  },
  {
   "cell_type": "code",
   "execution_count": 24,
   "id": "fa9f2164",
   "metadata": {},
   "outputs": [
    {
     "data": {
      "text/plain": [
       "array([2019, 2018, 2017, 2016, 2015, 2014, 2013, 2012, 2011, 2010, 2009,\n",
       "       2008, 2007, 2006, 2005, 2004, 2003, 2002, 2001, 1988, 1986, 1984,\n",
       "       1981], dtype=int64)"
      ]
     },
     "execution_count": 24,
     "metadata": {},
     "output_type": "execute_result"
    }
   ],
   "source": [
    "df.Year.unique()"
   ]
  },
  {
   "cell_type": "code",
   "execution_count": 60,
   "id": "9b3e153b",
   "metadata": {},
   "outputs": [],
   "source": [
    "year_doc_release = df.groupby(['Year'])['Year'].count()"
   ]
  },
  {
   "cell_type": "code",
   "execution_count": 58,
   "id": "825bc330",
   "metadata": {},
   "outputs": [
    {
     "data": {
      "image/png": "[encoded data removed]",
      "text/plain": [
       "<Figure size 864x432 with 1 Axes>"
      ]
     },
     "metadata": {
      "needs_background": "light"
     },
     "output_type": "display_data"
    },
    {
     "data": {
      "text/plain": [
       "<Figure size 432x288 with 0 Axes>"
      ]
     },
     "metadata": {},
     "output_type": "display_data"
    }
   ],
   "source": [
    "fig, ax = plt.subplots(figsize= (12,6))\n",
    "g = sns.lineplot(data = year_doc_release, ax = ax)\n",
    "g.set(title = \"Number of documents per year\",\n",
    "     xlabel = \"Year\", \n",
    "     ylabel = \"Number Documents\")\n",
    "plt.xticks(rotation = 90)\n",
    "plt.show()\n",
    "plt.clf()"
   ]
  },
  {
   "cell_type": "markdown",
   "id": "914c3451",
   "metadata": {},
   "source": [
    "### Manipulating the keywords columns"
   ]
  },
  {
   "cell_type": "code",
   "execution_count": 28,
   "id": "42f6979f",
   "metadata": {},
   "outputs": [],
   "source": [
    "# Splitting the index keywords columns using its semi colon\n",
    "efinance_df.index_keywords = efinance_df.index_keywords.str.lower().str.split(\";\")"
   ]
  },
  {
   "cell_type": "code",
   "execution_count": 29,
   "id": "a8e1e462",
   "metadata": {},
   "outputs": [],
   "source": [
    "for i in range(len(efinance_df[\"index_keywords\"])):\n",
    "    for j in range(len(efinance_df[\"index_keywords\"][i])):\n",
    "        efinance_df[\"index_keywords\"][i][j]= efinance_df[\"index_keywords\"][i][j].strip().replace(\" \",\"_\")"
   ]
  },
  {
   "cell_type": "code",
   "execution_count": null,
   "id": "279c7798",
   "metadata": {},
   "outputs": [],
   "source": []
  },
  {
   "cell_type": "code",
   "execution_count": 30,
   "id": "4df46cdf",
   "metadata": {},
   "outputs": [],
   "source": [
    "# Splitting the author keywords columns using its semi colon\n",
    "efinance_df.author_keywords  = efinance_df.author_keywords .str.lower().str.split(\";\").replace(\" \",\"_\")"
   ]
  },
  {
   "cell_type": "code",
   "execution_count": 31,
   "id": "f63f6c24",
   "metadata": {},
   "outputs": [],
   "source": [
    "for i in range(len(efinance_df[\"author_keywords\"])):\n",
    "    for j in range(len(efinance_df[\"author_keywords\"][i])):\n",
    "        efinance_df[\"author_keywords\"][i][j]= efinance_df[\"author_keywords\"][i][j].strip().replace(\" \",\"_\")"
   ]
  },
  {
   "cell_type": "code",
   "execution_count": 32,
   "id": "e83d851c",
   "metadata": {},
   "outputs": [
    {
     "data": {
      "text/html": [
       "<div>\n",
       "<style scoped>\n",
       "    .dataframe tbody tr th:only-of-type {\n",
       "        vertical-align: middle;\n",
       "    }\n",
       "\n",
       "    .dataframe tbody tr th {\n",
       "        vertical-align: top;\n",
       "    }\n",
       "\n",
       "    .dataframe thead th {\n",
       "        text-align: right;\n",
       "    }\n",
       "</style>\n",
       "<table border=\"1\" class=\"dataframe\">\n",
       "  <thead>\n",
       "    <tr style=\"text-align: right;\">\n",
       "      <th></th>\n",
       "      <th>authors</th>\n",
       "      <th>title</th>\n",
       "      <th>year</th>\n",
       "      <th>source_title</th>\n",
       "      <th>cited_by</th>\n",
       "      <th>link</th>\n",
       "      <th>affiliations</th>\n",
       "      <th>authors_with_affiliations</th>\n",
       "      <th>abstract</th>\n",
       "      <th>author_keywords</th>\n",
       "      <th>index_keywords</th>\n",
       "      <th>references</th>\n",
       "      <th>publisher</th>\n",
       "      <th>language_of_original_document</th>\n",
       "      <th>abbreviated_source_title</th>\n",
       "      <th>document_type</th>\n",
       "    </tr>\n",
       "  </thead>\n",
       "  <tbody>\n",
       "    <tr>\n",
       "      <th>0</th>\n",
       "      <td>Beni E.H., Lagaisse B., Joosen W., Aly A., Bra...</td>\n",
       "      <td>Datablinder: A distributed data protection mid...</td>\n",
       "      <td>2019</td>\n",
       "      <td>Middleware Industry 2019 - Proceedings of the ...</td>\n",
       "      <td>0</td>\n",
       "      <td>https://www.scopus.com/inward/record.uri?eid=2...</td>\n",
       "      <td>imec-DistriNet, KU Leuven, Belgium; imec-COSIC...</td>\n",
       "      <td>Beni, E.H., imec-DistriNet, KU Leuven, Belgium...</td>\n",
       "      <td>Business application owners want to outsource ...</td>\n",
       "      <td>[data_protection, middleware, security_and_pri...</td>\n",
       "      <td>[cryptography, data_privacy, economic_and_soci...</td>\n",
       "      <td>Agrawal, R., Kiernan, J., Srikant, R., Xu, Y.,...</td>\n",
       "      <td>Association for Computing Machinery, Inc</td>\n",
       "      <td>English</td>\n",
       "      <td>Middlew. Ind. - Proc. Int. Middlew. Conf. Ind....</td>\n",
       "      <td>Conference Paper</td>\n",
       "    </tr>\n",
       "    <tr>\n",
       "      <th>1</th>\n",
       "      <td>Xiong H., Zhou Y.</td>\n",
       "      <td>Construction and Application of Ocean Shipping...</td>\n",
       "      <td>2019</td>\n",
       "      <td>Journal of Coastal Research</td>\n",
       "      <td>0</td>\n",
       "      <td>https://www.scopus.com/inward/record.uri?eid=2...</td>\n",
       "      <td>School of Management, Nanchang University, Nan...</td>\n",
       "      <td>Xiong, H., School of Management, Nanchang Univ...</td>\n",
       "      <td>The existing enterprise performance evaluation...</td>\n",
       "      <td>[analytic_hierarchy_process, environmental_val...</td>\n",
       "      <td>[analytical_hierarchy_process, industrial_ente...</td>\n",
       "      <td>Boczon, A., Dudzinska, M., Kowalska, A., Effec...</td>\n",
       "      <td>Coastal Education Research Foundation Inc.</td>\n",
       "      <td>English</td>\n",
       "      <td>J. Coast. Res.</td>\n",
       "      <td>Article</td>\n",
       "    </tr>\n",
       "  </tbody>\n",
       "</table>\n",
       "</div>"
      ],
      "text/plain": [
       "                                             authors  \\\n",
       "0  Beni E.H., Lagaisse B., Joosen W., Aly A., Bra...   \n",
       "1                                  Xiong H., Zhou Y.   \n",
       "\n",
       "                                               title  year  \\\n",
       "0  Datablinder: A distributed data protection mid...  2019   \n",
       "1  Construction and Application of Ocean Shipping...  2019   \n",
       "\n",
       "                                        source_title  cited_by  \\\n",
       "0  Middleware Industry 2019 - Proceedings of the ...         0   \n",
       "1                        Journal of Coastal Research         0   \n",
       "\n",
       "                                                link  \\\n",
       "0  https://www.scopus.com/inward/record.uri?eid=2...   \n",
       "1  https://www.scopus.com/inward/record.uri?eid=2...   \n",
       "\n",
       "                                        affiliations  \\\n",
       "0  imec-DistriNet, KU Leuven, Belgium; imec-COSIC...   \n",
       "1  School of Management, Nanchang University, Nan...   \n",
       "\n",
       "                           authors_with_affiliations  \\\n",
       "0  Beni, E.H., imec-DistriNet, KU Leuven, Belgium...   \n",
       "1  Xiong, H., School of Management, Nanchang Univ...   \n",
       "\n",
       "                                            abstract  \\\n",
       "0  Business application owners want to outsource ...   \n",
       "1  The existing enterprise performance evaluation...   \n",
       "\n",
       "                                     author_keywords  \\\n",
       "0  [data_protection, middleware, security_and_pri...   \n",
       "1  [analytic_hierarchy_process, environmental_val...   \n",
       "\n",
       "                                      index_keywords  \\\n",
       "0  [cryptography, data_privacy, economic_and_soci...   \n",
       "1  [analytical_hierarchy_process, industrial_ente...   \n",
       "\n",
       "                                          references  \\\n",
       "0  Agrawal, R., Kiernan, J., Srikant, R., Xu, Y.,...   \n",
       "1  Boczon, A., Dudzinska, M., Kowalska, A., Effec...   \n",
       "\n",
       "                                    publisher language_of_original_document  \\\n",
       "0    Association for Computing Machinery, Inc                       English   \n",
       "1  Coastal Education Research Foundation Inc.                       English   \n",
       "\n",
       "                            abbreviated_source_title     document_type  \n",
       "0  Middlew. Ind. - Proc. Int. Middlew. Conf. Ind....  Conference Paper  \n",
       "1                                     J. Coast. Res.           Article  "
      ]
     },
     "execution_count": 32,
     "metadata": {},
     "output_type": "execute_result"
    }
   ],
   "source": [
    "efinance_df.head(2)"
   ]
  },
  {
   "cell_type": "markdown",
   "id": "6e815918",
   "metadata": {},
   "source": [
    "### What are the most common author keywords"
   ]
  },
  {
   "cell_type": "code",
   "execution_count": 68,
   "id": "134188c0",
   "metadata": {},
   "outputs": [],
   "source": [
    "# Counting the number of times a keywords appears in all the documents\n",
    "Author_keyword = {}\n",
    "i = 0\n",
    "for Keywords in efinance_df[\"author_keywords\"]:\n",
    "    if type(Keywords) is list:\n",
    "         if Keywords[0] != \"not_provided\":\n",
    "            for keyword in Keywords:\n",
    "                if keyword in Author_keyword:\n",
    "                    Author_keyword[keyword] = Author_keyword[keyword] + 1\n",
    "                else:\n",
    "                    Author_keyword[keyword] = 1\n",
    "                \n",
    "Author_keyword = pd.DataFrame(Author_keyword, index = range(1)).T.sort_values(0, ascending = False)\n",
    "Author_keyword.columns = [\"Number of Documents\"]\n",
    "Author_keyword = pd.DataFrame({'Author_keyword': Author_keyword.index, 'Number of Documents': Author_keyword['Number of Documents']}).reset_index()\n",
    "Author_keyword = Author_keyword.drop(['index'], axis=1)\n"
   ]
  },
  {
   "cell_type": "code",
   "execution_count": 69,
   "id": "e9b9418a",
   "metadata": {},
   "outputs": [
    {
     "data": {
      "text/html": [
       "<div>\n",
       "<style scoped>\n",
       "    .dataframe tbody tr th:only-of-type {\n",
       "        vertical-align: middle;\n",
       "    }\n",
       "\n",
       "    .dataframe tbody tr th {\n",
       "        vertical-align: top;\n",
       "    }\n",
       "\n",
       "    .dataframe thead th {\n",
       "        text-align: right;\n",
       "    }\n",
       "</style>\n",
       "<table border=\"1\" class=\"dataframe\">\n",
       "  <thead>\n",
       "    <tr style=\"text-align: right;\">\n",
       "      <th></th>\n",
       "      <th>Author_keyword</th>\n",
       "      <th>Number of Documents</th>\n",
       "    </tr>\n",
       "  </thead>\n",
       "  <tbody>\n",
       "    <tr>\n",
       "      <th>0</th>\n",
       "      <td>e-finance</td>\n",
       "      <td>98</td>\n",
       "    </tr>\n",
       "    <tr>\n",
       "      <th>1</th>\n",
       "      <td>electronic_finance</td>\n",
       "      <td>23</td>\n",
       "    </tr>\n",
       "    <tr>\n",
       "      <th>2</th>\n",
       "      <td>security</td>\n",
       "      <td>8</td>\n",
       "    </tr>\n",
       "    <tr>\n",
       "      <th>3</th>\n",
       "      <td>e-commerce</td>\n",
       "      <td>8</td>\n",
       "    </tr>\n",
       "    <tr>\n",
       "      <th>4</th>\n",
       "      <td>e-government</td>\n",
       "      <td>7</td>\n",
       "    </tr>\n",
       "    <tr>\n",
       "      <th>...</th>\n",
       "      <td>...</td>\n",
       "      <td>...</td>\n",
       "    </tr>\n",
       "    <tr>\n",
       "      <th>777</th>\n",
       "      <td>real_income</td>\n",
       "      <td>1</td>\n",
       "    </tr>\n",
       "    <tr>\n",
       "      <th>778</th>\n",
       "      <td>computers</td>\n",
       "      <td>1</td>\n",
       "    </tr>\n",
       "    <tr>\n",
       "      <th>779</th>\n",
       "      <td>digital_divide</td>\n",
       "      <td>1</td>\n",
       "    </tr>\n",
       "    <tr>\n",
       "      <th>780</th>\n",
       "      <td>digital_inclusion</td>\n",
       "      <td>1</td>\n",
       "    </tr>\n",
       "    <tr>\n",
       "      <th>781</th>\n",
       "      <td>research</td>\n",
       "      <td>1</td>\n",
       "    </tr>\n",
       "  </tbody>\n",
       "</table>\n",
       "<p>782 rows × 2 columns</p>\n",
       "</div>"
      ],
      "text/plain": [
       "         Author_keyword  Number of Documents\n",
       "0             e-finance                   98\n",
       "1    electronic_finance                   23\n",
       "2              security                    8\n",
       "3            e-commerce                    8\n",
       "4          e-government                    7\n",
       "..                  ...                  ...\n",
       "777         real_income                    1\n",
       "778           computers                    1\n",
       "779      digital_divide                    1\n",
       "780   digital_inclusion                    1\n",
       "781            research                    1\n",
       "\n",
       "[782 rows x 2 columns]"
      ]
     },
     "execution_count": 69,
     "metadata": {},
     "output_type": "execute_result"
    }
   ],
   "source": [
    "Author_keyword"
   ]
  },
  {
   "cell_type": "markdown",
   "id": "8234a55f",
   "metadata": {},
   "source": [
    "The keywords is not clean\n",
    "there are two e-finance rows, and an electronic finance rows which means the same thing. "
   ]
  },
  {
   "cell_type": "code",
   "execution_count": 70,
   "id": "b0c3ab94",
   "metadata": {},
   "outputs": [
    {
     "data": {
      "image/png": "[encoded data removed]",
      "text/plain": [
       "<Figure size 864x432 with 1 Axes>"
      ]
     },
     "metadata": {
      "needs_background": "light"
     },
     "output_type": "display_data"
    },
    {
     "data": {
      "text/plain": [
       "<Figure size 432x288 with 0 Axes>"
      ]
     },
     "metadata": {},
     "output_type": "display_data"
    }
   ],
   "source": [
    "import seaborn as sns\n",
    "fig, ax = plt.subplots(figsize= (12,6))\n",
    "g = sns.barplot(data = Author_keyword.iloc[:10], x = \"Author_keyword\", y = \"Number of Documents\", ax = ax)\n",
    "g.set(title = \"Top 10 most used author keywords\",\n",
    "     xlabel = \"Author Keywords\", \n",
    "     ylabel = \"Number of Documents\")\n",
    "plt.xticks(rotation = 90)\n",
    "plt.show()\n",
    "plt.clf()\n",
    "#g.xticklabels(labels = list(Author_keyword.iloc[:10].Author_keyword, rotation = 90))"
   ]
  },
  {
   "cell_type": "markdown",
   "id": "2886219a",
   "metadata": {},
   "source": [
    "### What are the most commonly used index keywords"
   ]
  },
  {
   "cell_type": "code",
   "execution_count": 43,
   "id": "b9fee44d",
   "metadata": {},
   "outputs": [],
   "source": [
    "# Counting the number of times a keywords appears in all the documents\n",
    "Index_keyword = {}\n",
    "i = 0\n",
    "for Keywords in efinance_df[\"index_keywords\"]:\n",
    "    if type(Keywords) is list:\n",
    "         if Keywords[0] != \"not_provided\":\n",
    "            for keyword in Keywords:\n",
    "                if keyword in Index_keyword:\n",
    "                    Index_keyword[keyword] = Index_keyword[keyword] + 1\n",
    "                else:\n",
    "                    Index_keyword[keyword] = 1\n",
    "                \n",
    "Index_keyword = pd.DataFrame(Index_keyword, index = range(1)).T.sort_values(0, ascending = False)\n",
    "Index_keyword.columns = [\"Number of Documents\"]\n",
    "Index_keyword = pd.DataFrame({'Index_keyword': Index_keyword.index, 'Number of Documents': Index_keyword['Number of Documents']}).reset_index()\n",
    "Index_keyword = Index_keyword.drop(['index'], axis=1)\n"
   ]
  },
  {
   "cell_type": "code",
   "execution_count": 44,
   "id": "ed6f647a",
   "metadata": {},
   "outputs": [
    {
     "data": {
      "text/html": [
       "<div>\n",
       "<style scoped>\n",
       "    .dataframe tbody tr th:only-of-type {\n",
       "        vertical-align: middle;\n",
       "    }\n",
       "\n",
       "    .dataframe tbody tr th {\n",
       "        vertical-align: top;\n",
       "    }\n",
       "\n",
       "    .dataframe thead th {\n",
       "        text-align: right;\n",
       "    }\n",
       "</style>\n",
       "<table border=\"1\" class=\"dataframe\">\n",
       "  <thead>\n",
       "    <tr style=\"text-align: right;\">\n",
       "      <th></th>\n",
       "      <th>Index_keyword</th>\n",
       "      <th>Number of Documents</th>\n",
       "    </tr>\n",
       "  </thead>\n",
       "  <tbody>\n",
       "    <tr>\n",
       "      <th>0</th>\n",
       "      <td>finance</td>\n",
       "      <td>31</td>\n",
       "    </tr>\n",
       "    <tr>\n",
       "      <th>1</th>\n",
       "      <td>electronic_commerce</td>\n",
       "      <td>31</td>\n",
       "    </tr>\n",
       "    <tr>\n",
       "      <th>2</th>\n",
       "      <td>e_finances</td>\n",
       "      <td>21</td>\n",
       "    </tr>\n",
       "    <tr>\n",
       "      <th>3</th>\n",
       "      <td>e-finance</td>\n",
       "      <td>14</td>\n",
       "    </tr>\n",
       "    <tr>\n",
       "      <th>4</th>\n",
       "      <td>information_systems</td>\n",
       "      <td>12</td>\n",
       "    </tr>\n",
       "    <tr>\n",
       "      <th>...</th>\n",
       "      <td>...</td>\n",
       "      <td>...</td>\n",
       "    </tr>\n",
       "    <tr>\n",
       "      <th>913</th>\n",
       "      <td>geography</td>\n",
       "      <td>1</td>\n",
       "    </tr>\n",
       "    <tr>\n",
       "      <th>914</th>\n",
       "      <td>gross_national_product</td>\n",
       "      <td>1</td>\n",
       "    </tr>\n",
       "    <tr>\n",
       "      <th>915</th>\n",
       "      <td>loan</td>\n",
       "      <td>1</td>\n",
       "    </tr>\n",
       "    <tr>\n",
       "      <th>916</th>\n",
       "      <td>policy</td>\n",
       "      <td>1</td>\n",
       "    </tr>\n",
       "    <tr>\n",
       "      <th>917</th>\n",
       "      <td>computer_systems,_digital_-_time_sharing</td>\n",
       "      <td>1</td>\n",
       "    </tr>\n",
       "  </tbody>\n",
       "</table>\n",
       "<p>918 rows × 2 columns</p>\n",
       "</div>"
      ],
      "text/plain": [
       "                                Index_keyword  Number of Documents\n",
       "0                                     finance                   31\n",
       "1                         electronic_commerce                   31\n",
       "2                                  e_finances                   21\n",
       "3                                   e-finance                   14\n",
       "4                         information_systems                   12\n",
       "..                                        ...                  ...\n",
       "913                                 geography                    1\n",
       "914                    gross_national_product                    1\n",
       "915                                      loan                    1\n",
       "916                                    policy                    1\n",
       "917  computer_systems,_digital_-_time_sharing                    1\n",
       "\n",
       "[918 rows x 2 columns]"
      ]
     },
     "execution_count": 44,
     "metadata": {},
     "output_type": "execute_result"
    }
   ],
   "source": [
    "Index_keyword"
   ]
  },
  {
   "cell_type": "code",
   "execution_count": 71,
   "id": "24748a1c",
   "metadata": {},
   "outputs": [
    {
     "data": {
      "image/png": "[encoded data removed]",
      "text/plain": [
       "<Figure size 864x432 with 1 Axes>"
      ]
     },
     "metadata": {
      "needs_background": "light"
     },
     "output_type": "display_data"
    },
    {
     "data": {
      "text/plain": [
       "<Figure size 432x288 with 0 Axes>"
      ]
     },
     "metadata": {},
     "output_type": "display_data"
    }
   ],
   "source": [
    "fig, ax = plt.subplots(figsize= (12,6))\n",
    "g = sns.barplot(data = Index_keyword.iloc[:10], x = \"Index_keyword\", y = \"Number of Documents\", ax = ax)\n",
    "g.set(title = \"Top 10 most used index keywords\",\n",
    "     xlabel = \"Author Keywords\", \n",
    "     ylabel = \"Number of Documents\")\n",
    "plt.xticks(rotation = 90)\n",
    "plt.show()\n",
    "plt.clf()"
   ]
  },
  {
   "cell_type": "code",
   "execution_count": 45,
   "id": "e446d3f4",
   "metadata": {},
   "outputs": [],
   "source": [
    "# Summing the nuber of times documnets containing a particular key word were cited\n",
    "def Number_of_citations(attribute):\n",
    "    Author_keyword = {}\n",
    "    i = 0\n",
    "    for Keywords in efinance_df[attribute]:\n",
    "        if type(Keywords) is list:\n",
    "            if Keywords[0] != \"not_provided\":\n",
    "                for keyword in Keywords:\n",
    "                    if keyword in Author_keyword:\n",
    "                        Author_keyword[keyword] = Author_keyword[keyword] + 1\n",
    "                    else:\n",
    "                        Author_keyword[keyword] = 1\n",
    "\n",
    "\n",
    "    keyword_citation = {}\n",
    "    for Keyword in list(Author_keyword):\n",
    "        i = 0\n",
    "        keyword_citation[Keyword] = 0\n",
    "        for Keywords in efinance_df[attribute]:\n",
    "            if type(Keywords) is list:\n",
    "                if Keyword in Keywords:\n",
    "                    keyword_citation[Keyword] = keyword_citation[Keyword] + efinance_df.iloc[i,4]\n",
    "            i +=1\n",
    "\n",
    "    keyword_citation = pd.DataFrame(keyword_citation, index=[\"0\"])\n",
    "    keyword_citation = keyword_citation.T\n",
    "    keyword_citation.columns = [\"Number of Citations\"]\n",
    "    keyword_citation = keyword_citation.sort_values(\"Number of Citations\", ascending = False)\n",
    "    keyword_citation = pd.DataFrame({'Keyword': keyword_citation.index, 'Number of Documents': keyword_citation['Number of Citations']}).reset_index()\n",
    "    keyword_citation = keyword_citation.drop(['index'], axis=1)\n",
    "\n",
    "    return keyword_citation"
   ]
  },
  {
   "cell_type": "markdown",
   "id": "c86d12c8",
   "metadata": {},
   "source": [
    "### What are the most cited  author keywords"
   ]
  },
  {
   "cell_type": "code",
   "execution_count": 66,
   "id": "e580f680",
   "metadata": {},
   "outputs": [
    {
     "data": {
      "text/html": [
       "<div>\n",
       "<style scoped>\n",
       "    .dataframe tbody tr th:only-of-type {\n",
       "        vertical-align: middle;\n",
       "    }\n",
       "\n",
       "    .dataframe tbody tr th {\n",
       "        vertical-align: top;\n",
       "    }\n",
       "\n",
       "    .dataframe thead th {\n",
       "        text-align: right;\n",
       "    }\n",
       "</style>\n",
       "<table border=\"1\" class=\"dataframe\">\n",
       "  <thead>\n",
       "    <tr style=\"text-align: right;\">\n",
       "      <th></th>\n",
       "      <th>Keyword</th>\n",
       "      <th>Number of Citations</th>\n",
       "    </tr>\n",
       "  </thead>\n",
       "  <tbody>\n",
       "    <tr>\n",
       "      <th>0</th>\n",
       "      <td>e-finance</td>\n",
       "      <td>658</td>\n",
       "    </tr>\n",
       "    <tr>\n",
       "      <th>1</th>\n",
       "      <td>electronic_finance</td>\n",
       "      <td>138</td>\n",
       "    </tr>\n",
       "    <tr>\n",
       "      <th>2</th>\n",
       "      <td>internet</td>\n",
       "      <td>128</td>\n",
       "    </tr>\n",
       "    <tr>\n",
       "      <th>3</th>\n",
       "      <td>trust</td>\n",
       "      <td>114</td>\n",
       "    </tr>\n",
       "    <tr>\n",
       "      <th>4</th>\n",
       "      <td>security</td>\n",
       "      <td>105</td>\n",
       "    </tr>\n",
       "    <tr>\n",
       "      <th>...</th>\n",
       "      <td>...</td>\n",
       "      <td>...</td>\n",
       "    </tr>\n",
       "    <tr>\n",
       "      <th>777</th>\n",
       "      <td>private_investor</td>\n",
       "      <td>0</td>\n",
       "    </tr>\n",
       "    <tr>\n",
       "      <th>778</th>\n",
       "      <td>online_broker</td>\n",
       "      <td>0</td>\n",
       "    </tr>\n",
       "    <tr>\n",
       "      <th>779</th>\n",
       "      <td>exchange</td>\n",
       "      <td>0</td>\n",
       "    </tr>\n",
       "    <tr>\n",
       "      <th>780</th>\n",
       "      <td>alternative_trading_systems</td>\n",
       "      <td>0</td>\n",
       "    </tr>\n",
       "    <tr>\n",
       "      <th>781</th>\n",
       "      <td>data_protection</td>\n",
       "      <td>0</td>\n",
       "    </tr>\n",
       "  </tbody>\n",
       "</table>\n",
       "<p>782 rows × 2 columns</p>\n",
       "</div>"
      ],
      "text/plain": [
       "                         Keyword  Number of Citations\n",
       "0                      e-finance                  658\n",
       "1             electronic_finance                  138\n",
       "2                       internet                  128\n",
       "3                          trust                  114\n",
       "4                       security                  105\n",
       "..                           ...                  ...\n",
       "777             private_investor                    0\n",
       "778                online_broker                    0\n",
       "779                     exchange                    0\n",
       "780  alternative_trading_systems                    0\n",
       "781              data_protection                    0\n",
       "\n",
       "[782 rows x 2 columns]"
      ]
     },
     "execution_count": 66,
     "metadata": {},
     "output_type": "execute_result"
    }
   ],
   "source": [
    "most_cited_keyword = Number_of_citations(\"author_keywords\")\n",
    "most_cited_keyword.rename(columns={\"Number of Documents\":\"Number of Citations\"}, inplace= True)\n",
    "most_cited_keyword"
   ]
  },
  {
   "cell_type": "code",
   "execution_count": 67,
   "id": "8c1f09fc",
   "metadata": {},
   "outputs": [
    {
     "data": {
      "image/png": "[encoded data removed]",
      "text/plain": [
       "<Figure size 864x432 with 1 Axes>"
      ]
     },
     "metadata": {
      "needs_background": "light"
     },
     "output_type": "display_data"
    },
    {
     "data": {
      "text/plain": [
       "<Figure size 432x288 with 0 Axes>"
      ]
     },
     "metadata": {},
     "output_type": "display_data"
    }
   ],
   "source": [
    "fig, ax = plt.subplots(figsize= (12,6))\n",
    "g = sns.barplot(data = most_cited_keyword.iloc[:10], x = \"Keyword\", y = \"Number of Citations\", ax = ax)\n",
    "g.set(title = \"Top 10 most cited author Keywords\",\n",
    "     xlabel = \"Author Keywords\", \n",
    "     ylabel = \"Number of Citations\")\n",
    "plt.xticks(rotation = 90)\n",
    "plt.show()\n",
    "plt.clf()"
   ]
  },
  {
   "cell_type": "markdown",
   "id": "a09a4b47",
   "metadata": {},
   "source": [
    "### What are the most cited Index keywords"
   ]
  },
  {
   "cell_type": "code",
   "execution_count": 73,
   "id": "9817c507",
   "metadata": {},
   "outputs": [
    {
     "data": {
      "text/html": [
       "<div>\n",
       "<style scoped>\n",
       "    .dataframe tbody tr th:only-of-type {\n",
       "        vertical-align: middle;\n",
       "    }\n",
       "\n",
       "    .dataframe tbody tr th {\n",
       "        vertical-align: top;\n",
       "    }\n",
       "\n",
       "    .dataframe thead th {\n",
       "        text-align: right;\n",
       "    }\n",
       "</style>\n",
       "<table border=\"1\" class=\"dataframe\">\n",
       "  <thead>\n",
       "    <tr style=\"text-align: right;\">\n",
       "      <th></th>\n",
       "      <th>Keyword</th>\n",
       "      <th>Number of Citations</th>\n",
       "    </tr>\n",
       "  </thead>\n",
       "  <tbody>\n",
       "    <tr>\n",
       "      <th>0</th>\n",
       "      <td>electronic_commerce</td>\n",
       "      <td>154</td>\n",
       "    </tr>\n",
       "    <tr>\n",
       "      <th>1</th>\n",
       "      <td>intelligent_agents</td>\n",
       "      <td>104</td>\n",
       "    </tr>\n",
       "    <tr>\n",
       "      <th>2</th>\n",
       "      <td>information_systems</td>\n",
       "      <td>102</td>\n",
       "    </tr>\n",
       "    <tr>\n",
       "      <th>3</th>\n",
       "      <td>decision_making</td>\n",
       "      <td>97</td>\n",
       "    </tr>\n",
       "    <tr>\n",
       "      <th>4</th>\n",
       "      <td>commerce</td>\n",
       "      <td>95</td>\n",
       "    </tr>\n",
       "    <tr>\n",
       "      <th>...</th>\n",
       "      <td>...</td>\n",
       "      <td>...</td>\n",
       "    </tr>\n",
       "    <tr>\n",
       "      <th>913</th>\n",
       "      <td>network_technologies</td>\n",
       "      <td>0</td>\n",
       "    </tr>\n",
       "    <tr>\n",
       "      <th>914</th>\n",
       "      <td>information_safety</td>\n",
       "      <td>0</td>\n",
       "    </tr>\n",
       "    <tr>\n",
       "      <th>915</th>\n",
       "      <td>financial_risks</td>\n",
       "      <td>0</td>\n",
       "    </tr>\n",
       "    <tr>\n",
       "      <th>916</th>\n",
       "      <td>commercial_services</td>\n",
       "      <td>0</td>\n",
       "    </tr>\n",
       "    <tr>\n",
       "      <th>917</th>\n",
       "      <td>computer_systems,_digital_-_time_sharing</td>\n",
       "      <td>0</td>\n",
       "    </tr>\n",
       "  </tbody>\n",
       "</table>\n",
       "<p>918 rows × 2 columns</p>\n",
       "</div>"
      ],
      "text/plain": [
       "                                      Keyword  Number of Citations\n",
       "0                         electronic_commerce                  154\n",
       "1                          intelligent_agents                  104\n",
       "2                         information_systems                  102\n",
       "3                             decision_making                   97\n",
       "4                                    commerce                   95\n",
       "..                                        ...                  ...\n",
       "913                      network_technologies                    0\n",
       "914                        information_safety                    0\n",
       "915                           financial_risks                    0\n",
       "916                       commercial_services                    0\n",
       "917  computer_systems,_digital_-_time_sharing                    0\n",
       "\n",
       "[918 rows x 2 columns]"
      ]
     },
     "execution_count": 73,
     "metadata": {},
     "output_type": "execute_result"
    }
   ],
   "source": [
    "Most_cited_indexword = Number_of_citations(\"index_keywords\")\n",
    "Most_cited_indexword.rename(columns={\"Number of Documents\":\"Number of Citations\"}, inplace= True)\n",
    "Most_cited_indexword"
   ]
  },
  {
   "cell_type": "code",
   "execution_count": 74,
   "id": "653e6457",
   "metadata": {},
   "outputs": [
    {
     "data": {
      "image/png": "[encoded data removed]",
      "text/plain": [
       "<Figure size 864x432 with 1 Axes>"
      ]
     },
     "metadata": {
      "needs_background": "light"
     },
     "output_type": "display_data"
    },
    {
     "data": {
      "text/plain": [
       "<Figure size 432x288 with 0 Axes>"
      ]
     },
     "metadata": {},
     "output_type": "display_data"
    }
   ],
   "source": [
    "fig, ax = plt.subplots(figsize= (12,6))\n",
    "g = sns.barplot(data = Most_cited_indexword.iloc[:10], x = \"Keyword\", y = \"Number of Citations\", ax = ax)\n",
    "g.set(title = \"Top 10 most cited Index Keywords\",\n",
    "     xlabel = \"Index Keywords\", \n",
    "     ylabel = \"Number of Citations\")\n",
    "plt.xticks(rotation = 90)\n",
    "plt.show()\n",
    "plt.clf()"
   ]
  },
  {
   "cell_type": "code",
   "execution_count": 98,
   "id": "c3fe694c",
   "metadata": {},
   "outputs": [],
   "source": [
    "language_of_original_document = efinance_df.groupby(['language_of_original_document'])['language_of_original_document'].count()"
   ]
  },
  {
   "cell_type": "code",
   "execution_count": 99,
   "id": "00bfb9e5",
   "metadata": {},
   "outputs": [
    {
     "data": {
      "text/plain": [
       "language_of_original_document\n",
       "Chinese      2\n",
       "English    223\n",
       "German       2\n",
       "Polish       1\n",
       "Name: language_of_original_document, dtype: int64"
      ]
     },
     "execution_count": 99,
     "metadata": {},
     "output_type": "execute_result"
    }
   ],
   "source": [
    "language_of_original_document"
   ]
  },
  {
   "cell_type": "code",
   "execution_count": 101,
   "id": "978b5b66",
   "metadata": {},
   "outputs": [
    {
     "data": {
      "text/plain": [
       "<AxesSubplot:title={'center':'Language of Document'}>"
      ]
     },
     "execution_count": 101,
     "metadata": {},
     "output_type": "execute_result"
    },
    {
     "data": {
      "image/png": "[encoded data removed]",
      "text/plain": [
       "<Figure size 1008x360 with 1 Axes>"
      ]
     },
     "metadata": {
      "needs_background": "light"
     },
     "output_type": "display_data"
    }
   ],
   "source": [
    "plt.figure(figsize = (14,5))\n",
    "plt.title('Language of Document')\n",
    "efinance_df.language_of_original_document.value_counts().sort_values().plot.barh(color = 'green')"
   ]
  },
  {
   "cell_type": "code",
   "execution_count": null,
   "id": "ab831193",
   "metadata": {},
   "outputs": [],
   "source": []
  }
 ],
 "metadata": {
  "kernelspec": {
   "display_name": "Python 3 (ipykernel)",
   "language": "python",
   "name": "python3"
  },
  "language_info": {
   "codemirror_mode": {
    "name": "ipython",
    "version": 3
   },
   "file_extension": ".py",
   "mimetype": "text/x-python",
   "name": "python",
   "nbconvert_exporter": "python",
   "pygments_lexer": "ipython3",
   "version": "3.9.7"
  },
  "vscode": {
   "interpreter": {
    "hash": "5b8cb09808be83917a0909fdd53cc0432b6b8033d01c75a8a141e9c7633dc135"
   }
  }
 },
 "nbformat": 4,
 "nbformat_minor": 5
}
